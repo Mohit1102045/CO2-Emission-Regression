{
 "cells": [
  {
   "cell_type": "code",
   "execution_count": 1,
   "id": "365926ce",
   "metadata": {},
   "outputs": [],
   "source": [
    "import pandas as pd\n",
    "import numpy as np\n",
    "import matplotlib.pyplot as plt\n",
    "%matplotlib inline\n",
    "import seaborn as sns\n",
    "from sklearn.linear_model import LinearRegression\n",
    "from sklearn.tree import DecisionTreeRegressor\n",
    "from sklearn.ensemble import RandomForestRegressor\n",
    "from sklearn.metrics import mean_squared_error ,r2_score, mean_absolute_error"
   ]
  },
  {
   "cell_type": "code",
   "execution_count": 2,
   "id": "8002ef04",
   "metadata": {},
   "outputs": [],
   "source": [
    "#Importing Data\n",
    "data=pd.read_csv(\"CO2 Emissions_India.csv\")"
   ]
  },
  {
   "cell_type": "code",
   "execution_count": 3,
   "id": "cb605e76",
   "metadata": {},
   "outputs": [
    {
     "data": {
      "text/html": [
       "<div>\n",
       "<style scoped>\n",
       "    .dataframe tbody tr th:only-of-type {\n",
       "        vertical-align: middle;\n",
       "    }\n",
       "\n",
       "    .dataframe tbody tr th {\n",
       "        vertical-align: top;\n",
       "    }\n",
       "\n",
       "    .dataframe thead th {\n",
       "        text-align: right;\n",
       "    }\n",
       "</style>\n",
       "<table border=\"1\" class=\"dataframe\">\n",
       "  <thead>\n",
       "    <tr style=\"text-align: right;\">\n",
       "      <th></th>\n",
       "      <th>Make</th>\n",
       "      <th>Model</th>\n",
       "      <th>Vehicle Class</th>\n",
       "      <th>Engine Size(L)</th>\n",
       "      <th>Cylinders</th>\n",
       "      <th>Transmission</th>\n",
       "      <th>Fuel Type</th>\n",
       "      <th>Fuel Consumption City (L/100 km)</th>\n",
       "      <th>Fuel Consumption Hwy (L/100 km)</th>\n",
       "      <th>Fuel Consumption Comb (L/100 km)</th>\n",
       "      <th>Fuel Consumption Comb (mpg)</th>\n",
       "      <th>CO2 Emissions(g/km)</th>\n",
       "    </tr>\n",
       "  </thead>\n",
       "  <tbody>\n",
       "    <tr>\n",
       "      <th>0</th>\n",
       "      <td>ACURA</td>\n",
       "      <td>ILX</td>\n",
       "      <td>COMPACT</td>\n",
       "      <td>2.0</td>\n",
       "      <td>4</td>\n",
       "      <td>AS5</td>\n",
       "      <td>Z</td>\n",
       "      <td>9.9</td>\n",
       "      <td>6.7</td>\n",
       "      <td>8.5</td>\n",
       "      <td>33</td>\n",
       "      <td>196</td>\n",
       "    </tr>\n",
       "    <tr>\n",
       "      <th>1</th>\n",
       "      <td>ACURA</td>\n",
       "      <td>ILX</td>\n",
       "      <td>COMPACT</td>\n",
       "      <td>2.4</td>\n",
       "      <td>4</td>\n",
       "      <td>M6</td>\n",
       "      <td>Z</td>\n",
       "      <td>11.2</td>\n",
       "      <td>7.7</td>\n",
       "      <td>9.6</td>\n",
       "      <td>29</td>\n",
       "      <td>221</td>\n",
       "    </tr>\n",
       "    <tr>\n",
       "      <th>2</th>\n",
       "      <td>ACURA</td>\n",
       "      <td>ILX HYBRID</td>\n",
       "      <td>COMPACT</td>\n",
       "      <td>1.5</td>\n",
       "      <td>4</td>\n",
       "      <td>AV7</td>\n",
       "      <td>Z</td>\n",
       "      <td>6.0</td>\n",
       "      <td>5.8</td>\n",
       "      <td>5.9</td>\n",
       "      <td>48</td>\n",
       "      <td>136</td>\n",
       "    </tr>\n",
       "    <tr>\n",
       "      <th>3</th>\n",
       "      <td>ACURA</td>\n",
       "      <td>MDX 4WD</td>\n",
       "      <td>SUV - SMALL</td>\n",
       "      <td>3.5</td>\n",
       "      <td>6</td>\n",
       "      <td>AS6</td>\n",
       "      <td>Z</td>\n",
       "      <td>12.7</td>\n",
       "      <td>9.1</td>\n",
       "      <td>11.1</td>\n",
       "      <td>25</td>\n",
       "      <td>255</td>\n",
       "    </tr>\n",
       "    <tr>\n",
       "      <th>4</th>\n",
       "      <td>ACURA</td>\n",
       "      <td>RDX AWD</td>\n",
       "      <td>SUV - SMALL</td>\n",
       "      <td>3.5</td>\n",
       "      <td>6</td>\n",
       "      <td>AS6</td>\n",
       "      <td>Z</td>\n",
       "      <td>12.1</td>\n",
       "      <td>8.7</td>\n",
       "      <td>10.6</td>\n",
       "      <td>27</td>\n",
       "      <td>244</td>\n",
       "    </tr>\n",
       "  </tbody>\n",
       "</table>\n",
       "</div>"
      ],
      "text/plain": [
       "    Make       Model Vehicle Class  Engine Size(L)  Cylinders Transmission  \\\n",
       "0  ACURA         ILX       COMPACT             2.0          4          AS5   \n",
       "1  ACURA         ILX       COMPACT             2.4          4           M6   \n",
       "2  ACURA  ILX HYBRID       COMPACT             1.5          4          AV7   \n",
       "3  ACURA     MDX 4WD   SUV - SMALL             3.5          6          AS6   \n",
       "4  ACURA     RDX AWD   SUV - SMALL             3.5          6          AS6   \n",
       "\n",
       "  Fuel Type  Fuel Consumption City (L/100 km)  \\\n",
       "0         Z                               9.9   \n",
       "1         Z                              11.2   \n",
       "2         Z                               6.0   \n",
       "3         Z                              12.7   \n",
       "4         Z                              12.1   \n",
       "\n",
       "   Fuel Consumption Hwy (L/100 km)  Fuel Consumption Comb (L/100 km)  \\\n",
       "0                              6.7                               8.5   \n",
       "1                              7.7                               9.6   \n",
       "2                              5.8                               5.9   \n",
       "3                              9.1                              11.1   \n",
       "4                              8.7                              10.6   \n",
       "\n",
       "   Fuel Consumption Comb (mpg)  CO2 Emissions(g/km)  \n",
       "0                           33                  196  \n",
       "1                           29                  221  \n",
       "2                           48                  136  \n",
       "3                           25                  255  \n",
       "4                           27                  244  "
      ]
     },
     "execution_count": 3,
     "metadata": {},
     "output_type": "execute_result"
    }
   ],
   "source": [
    "data.head()"
   ]
  },
  {
   "cell_type": "markdown",
   "id": "9d84e62a",
   "metadata": {},
   "source": [
    "# EDA"
   ]
  },
  {
   "cell_type": "code",
   "execution_count": 4,
   "id": "2caf84d0",
   "metadata": {},
   "outputs": [
    {
     "name": "stdout",
     "output_type": "stream",
     "text": [
      "<class 'pandas.core.frame.DataFrame'>\n",
      "RangeIndex: 7385 entries, 0 to 7384\n",
      "Data columns (total 12 columns):\n",
      " #   Column                            Non-Null Count  Dtype  \n",
      "---  ------                            --------------  -----  \n",
      " 0   Make                              7385 non-null   object \n",
      " 1   Model                             7385 non-null   object \n",
      " 2   Vehicle Class                     7385 non-null   object \n",
      " 3   Engine Size(L)                    7385 non-null   float64\n",
      " 4   Cylinders                         7385 non-null   int64  \n",
      " 5   Transmission                      7385 non-null   object \n",
      " 6   Fuel Type                         7385 non-null   object \n",
      " 7   Fuel Consumption City (L/100 km)  7385 non-null   float64\n",
      " 8   Fuel Consumption Hwy (L/100 km)   7385 non-null   float64\n",
      " 9   Fuel Consumption Comb (L/100 km)  7385 non-null   float64\n",
      " 10  Fuel Consumption Comb (mpg)       7385 non-null   int64  \n",
      " 11  CO2 Emissions(g/km)               7385 non-null   int64  \n",
      "dtypes: float64(4), int64(3), object(5)\n",
      "memory usage: 692.5+ KB\n"
     ]
    }
   ],
   "source": [
    "# Checking for the data types information-\n",
    "data.info()"
   ]
  },
  {
   "cell_type": "code",
   "execution_count": 5,
   "id": "5cb0f360",
   "metadata": {},
   "outputs": [
    {
     "data": {
      "text/plain": [
       "Make                                0\n",
       "Model                               0\n",
       "Vehicle Class                       0\n",
       "Engine Size(L)                      0\n",
       "Cylinders                           0\n",
       "Transmission                        0\n",
       "Fuel Type                           0\n",
       "Fuel Consumption City (L/100 km)    0\n",
       "Fuel Consumption Hwy (L/100 km)     0\n",
       "Fuel Consumption Comb (L/100 km)    0\n",
       "Fuel Consumption Comb (mpg)         0\n",
       "CO2 Emissions(g/km)                 0\n",
       "dtype: int64"
      ]
     },
     "execution_count": 5,
     "metadata": {},
     "output_type": "execute_result"
    }
   ],
   "source": [
    "# Checking for total null valuesin all-\n",
    "data.isnull().sum()"
   ]
  },
  {
   "cell_type": "code",
   "execution_count": 6,
   "id": "72fa194c",
   "metadata": {},
   "outputs": [
    {
     "data": {
      "text/html": [
       "<div>\n",
       "<style scoped>\n",
       "    .dataframe tbody tr th:only-of-type {\n",
       "        vertical-align: middle;\n",
       "    }\n",
       "\n",
       "    .dataframe tbody tr th {\n",
       "        vertical-align: top;\n",
       "    }\n",
       "\n",
       "    .dataframe thead th {\n",
       "        text-align: right;\n",
       "    }\n",
       "</style>\n",
       "<table border=\"1\" class=\"dataframe\">\n",
       "  <thead>\n",
       "    <tr style=\"text-align: right;\">\n",
       "      <th></th>\n",
       "      <th>count</th>\n",
       "      <th>mean</th>\n",
       "      <th>std</th>\n",
       "      <th>min</th>\n",
       "      <th>25%</th>\n",
       "      <th>50%</th>\n",
       "      <th>75%</th>\n",
       "      <th>max</th>\n",
       "    </tr>\n",
       "  </thead>\n",
       "  <tbody>\n",
       "    <tr>\n",
       "      <th>Engine Size(L)</th>\n",
       "      <td>7385.0</td>\n",
       "      <td>3.160068</td>\n",
       "      <td>1.354170</td>\n",
       "      <td>0.9</td>\n",
       "      <td>2.0</td>\n",
       "      <td>3.0</td>\n",
       "      <td>3.7</td>\n",
       "      <td>8.4</td>\n",
       "    </tr>\n",
       "    <tr>\n",
       "      <th>Cylinders</th>\n",
       "      <td>7385.0</td>\n",
       "      <td>5.615030</td>\n",
       "      <td>1.828307</td>\n",
       "      <td>3.0</td>\n",
       "      <td>4.0</td>\n",
       "      <td>6.0</td>\n",
       "      <td>6.0</td>\n",
       "      <td>16.0</td>\n",
       "    </tr>\n",
       "    <tr>\n",
       "      <th>Fuel Consumption City (L/100 km)</th>\n",
       "      <td>7385.0</td>\n",
       "      <td>12.556534</td>\n",
       "      <td>3.500274</td>\n",
       "      <td>4.2</td>\n",
       "      <td>10.1</td>\n",
       "      <td>12.1</td>\n",
       "      <td>14.6</td>\n",
       "      <td>30.6</td>\n",
       "    </tr>\n",
       "    <tr>\n",
       "      <th>Fuel Consumption Hwy (L/100 km)</th>\n",
       "      <td>7385.0</td>\n",
       "      <td>9.041706</td>\n",
       "      <td>2.224456</td>\n",
       "      <td>4.0</td>\n",
       "      <td>7.5</td>\n",
       "      <td>8.7</td>\n",
       "      <td>10.2</td>\n",
       "      <td>20.6</td>\n",
       "    </tr>\n",
       "    <tr>\n",
       "      <th>Fuel Consumption Comb (L/100 km)</th>\n",
       "      <td>7385.0</td>\n",
       "      <td>10.975071</td>\n",
       "      <td>2.892506</td>\n",
       "      <td>4.1</td>\n",
       "      <td>8.9</td>\n",
       "      <td>10.6</td>\n",
       "      <td>12.6</td>\n",
       "      <td>26.1</td>\n",
       "    </tr>\n",
       "    <tr>\n",
       "      <th>Fuel Consumption Comb (mpg)</th>\n",
       "      <td>7385.0</td>\n",
       "      <td>27.481652</td>\n",
       "      <td>7.231879</td>\n",
       "      <td>11.0</td>\n",
       "      <td>22.0</td>\n",
       "      <td>27.0</td>\n",
       "      <td>32.0</td>\n",
       "      <td>69.0</td>\n",
       "    </tr>\n",
       "    <tr>\n",
       "      <th>CO2 Emissions(g/km)</th>\n",
       "      <td>7385.0</td>\n",
       "      <td>250.584699</td>\n",
       "      <td>58.512679</td>\n",
       "      <td>96.0</td>\n",
       "      <td>208.0</td>\n",
       "      <td>246.0</td>\n",
       "      <td>288.0</td>\n",
       "      <td>522.0</td>\n",
       "    </tr>\n",
       "  </tbody>\n",
       "</table>\n",
       "</div>"
      ],
      "text/plain": [
       "                                   count        mean        std   min    25%  \\\n",
       "Engine Size(L)                    7385.0    3.160068   1.354170   0.9    2.0   \n",
       "Cylinders                         7385.0    5.615030   1.828307   3.0    4.0   \n",
       "Fuel Consumption City (L/100 km)  7385.0   12.556534   3.500274   4.2   10.1   \n",
       "Fuel Consumption Hwy (L/100 km)   7385.0    9.041706   2.224456   4.0    7.5   \n",
       "Fuel Consumption Comb (L/100 km)  7385.0   10.975071   2.892506   4.1    8.9   \n",
       "Fuel Consumption Comb (mpg)       7385.0   27.481652   7.231879  11.0   22.0   \n",
       "CO2 Emissions(g/km)               7385.0  250.584699  58.512679  96.0  208.0   \n",
       "\n",
       "                                    50%    75%    max  \n",
       "Engine Size(L)                      3.0    3.7    8.4  \n",
       "Cylinders                           6.0    6.0   16.0  \n",
       "Fuel Consumption City (L/100 km)   12.1   14.6   30.6  \n",
       "Fuel Consumption Hwy (L/100 km)     8.7   10.2   20.6  \n",
       "Fuel Consumption Comb (L/100 km)   10.6   12.6   26.1  \n",
       "Fuel Consumption Comb (mpg)        27.0   32.0   69.0  \n",
       "CO2 Emissions(g/km)               246.0  288.0  522.0  "
      ]
     },
     "execution_count": 6,
     "metadata": {},
     "output_type": "execute_result"
    }
   ],
   "source": [
    "# Statistical parameter analysis of all features-\n",
    "data.describe().T"
   ]
  },
  {
   "cell_type": "code",
   "execution_count": 7,
   "id": "e5e8dc71",
   "metadata": {},
   "outputs": [
    {
     "name": "stdout",
     "output_type": "stream",
     "text": [
      "['ACURA' 'ALFA ROMEO' 'ASTON MARTIN' 'AUDI' 'BENTLEY' 'BMW' 'BUICK'\n",
      " 'CADILLAC' 'CHEVROLET' 'CHRYSLER' 'DODGE' 'FIAT' 'FORD' 'GMC' 'HONDA'\n",
      " 'HYUNDAI' 'INFINITI' 'JAGUAR' 'JEEP' 'KIA' 'LAMBORGHINI' 'LAND ROVER'\n",
      " 'LEXUS' 'LINCOLN' 'MASERATI' 'MAZDA' 'MERCEDES-BENZ' 'MINI' 'MITSUBISHI'\n",
      " 'NISSAN' 'PORSCHE' 'RAM' 'ROLLS-ROYCE' 'SCION' 'SMART' 'SRT' 'SUBARU'\n",
      " 'TOYOTA' 'VOLKSWAGEN' 'VOLVO' 'GENESIS' 'BUGATTI']\n"
     ]
    }
   ],
   "source": [
    "# checking for unique variables\n",
    "print(data['Make'].unique())"
   ]
  },
  {
   "cell_type": "code",
   "execution_count": 8,
   "id": "e1100243",
   "metadata": {},
   "outputs": [
    {
     "name": "stdout",
     "output_type": "stream",
     "text": [
      "['Automatic of Selective type' 'Manual' 'CVT' 'Automated Manual'\n",
      " 'Automatic']\n"
     ]
    }
   ],
   "source": [
    "# Putting different transmission sub-catagories-\n",
    "\n",
    "data['Transmission'] = np.where(data['Transmission'].isin(['A4','A5','A6','A7','A8','A9','A10']),'Automatic',data['Transmission'])\n",
    "data['Transmission'] = np.where(data['Transmission'].isin(['AS4','AS5','AS6','AS7','AS8','AS9','AS10']),'Automatic of Selective type',data['Transmission'])\n",
    "data['Transmission'] = np.where(data['Transmission'].isin(['AM5','AM6','AM7','AM8','AM9']),'Automated Manual',data['Transmission'])\n",
    "data['Transmission'] = np.where(data['Transmission'].isin(['AV','AV6','AV7','AV8','AV10']),'CVT',data['Transmission'])\n",
    "data['Transmission'] = np.where(data['Transmission'].isin(['M5','M6','M7']),'Manual',data['Transmission'])\n",
    "\n",
    "print(data['Transmission'].unique())"
   ]
  },
  {
   "cell_type": "code",
   "execution_count": 9,
   "id": "f1b594fe",
   "metadata": {},
   "outputs": [
    {
     "name": "stdout",
     "output_type": "stream",
     "text": [
      "X    3637\n",
      "Z    3202\n",
      "E     370\n",
      "D     175\n",
      "N       1\n",
      "Name: Fuel Type, dtype: int64\n",
      "['Premium gasoline' 'Diesel' 'Regular gasoline' 'Ethanol' 'Natural gas']\n",
      "['COMPACT' 'SUV - SMALL' 'MID-SIZE' 'TWO-SEATER' 'MINICOMPACT'\n",
      " 'SUBCOMPACT' 'FULL-SIZE' 'STATION WAGON - SMALL' 'SUV - STANDARD'\n",
      " 'VAN - CARGO' 'VAN - PASSENGER' 'PICKUP TRUCK - STANDARD' 'MINIVAN'\n",
      " 'SPECIAL PURPOSE VEHICLE' 'STATION WAGON - MID-SIZE'\n",
      " 'PICKUP TRUCK - SMALL']\n"
     ]
    }
   ],
   "source": [
    "# Renaming fuel types for understanding\n",
    "\n",
    "print(data['Fuel Type'].value_counts())\n",
    "\n",
    "data['Fuel Type']= np.where(data['Fuel Type']=='X','Regular gasoline',data['Fuel Type'])\n",
    "data['Fuel Type']= np.where(data['Fuel Type']=='Z','Premium gasoline',data['Fuel Type'])\n",
    "data['Fuel Type']= np.where(data['Fuel Type']=='E','Ethanol',data['Fuel Type'])\n",
    "data['Fuel Type']= np.where(data['Fuel Type']=='D','Diesel',data['Fuel Type'])\n",
    "data['Fuel Type']= np.where(data['Fuel Type']=='N','Natural gas',data['Fuel Type'])\n",
    "\n",
    "print(data['Fuel Type'].unique())\n",
    "print(data['Vehicle Class'].unique())"
   ]
  },
  {
   "cell_type": "code",
   "execution_count": 10,
   "id": "2e37a10a",
   "metadata": {},
   "outputs": [
    {
     "data": {
      "text/plain": [
       "(7385, 12)"
      ]
     },
     "execution_count": 10,
     "metadata": {},
     "output_type": "execute_result"
    }
   ],
   "source": [
    "data.shape"
   ]
  },
  {
   "cell_type": "code",
   "execution_count": 11,
   "id": "4a610205",
   "metadata": {},
   "outputs": [
    {
     "data": {
      "text/html": [
       "<div>\n",
       "<style scoped>\n",
       "    .dataframe tbody tr th:only-of-type {\n",
       "        vertical-align: middle;\n",
       "    }\n",
       "\n",
       "    .dataframe tbody tr th {\n",
       "        vertical-align: top;\n",
       "    }\n",
       "\n",
       "    .dataframe thead th {\n",
       "        text-align: right;\n",
       "    }\n",
       "</style>\n",
       "<table border=\"1\" class=\"dataframe\">\n",
       "  <thead>\n",
       "    <tr style=\"text-align: right;\">\n",
       "      <th></th>\n",
       "      <th>Make</th>\n",
       "      <th>Model</th>\n",
       "      <th>Vehicle Class</th>\n",
       "      <th>Engine Size(L)</th>\n",
       "      <th>Cylinders</th>\n",
       "      <th>Transmission</th>\n",
       "      <th>Fuel Type</th>\n",
       "      <th>Fuel Consumption City (L/100 km)</th>\n",
       "      <th>Fuel Consumption Hwy (L/100 km)</th>\n",
       "      <th>Fuel Consumption Comb (L/100 km)</th>\n",
       "      <th>Fuel Consumption Comb (mpg)</th>\n",
       "      <th>CO2 Emissions(g/km)</th>\n",
       "    </tr>\n",
       "  </thead>\n",
       "  <tbody>\n",
       "    <tr>\n",
       "      <th>0</th>\n",
       "      <td>ACURA</td>\n",
       "      <td>ILX</td>\n",
       "      <td>COMPACT</td>\n",
       "      <td>2.0</td>\n",
       "      <td>4</td>\n",
       "      <td>Automatic of Selective type</td>\n",
       "      <td>Premium gasoline</td>\n",
       "      <td>9.9</td>\n",
       "      <td>6.7</td>\n",
       "      <td>8.5</td>\n",
       "      <td>33</td>\n",
       "      <td>196</td>\n",
       "    </tr>\n",
       "    <tr>\n",
       "      <th>1</th>\n",
       "      <td>ACURA</td>\n",
       "      <td>ILX</td>\n",
       "      <td>COMPACT</td>\n",
       "      <td>2.4</td>\n",
       "      <td>4</td>\n",
       "      <td>Manual</td>\n",
       "      <td>Premium gasoline</td>\n",
       "      <td>11.2</td>\n",
       "      <td>7.7</td>\n",
       "      <td>9.6</td>\n",
       "      <td>29</td>\n",
       "      <td>221</td>\n",
       "    </tr>\n",
       "    <tr>\n",
       "      <th>2</th>\n",
       "      <td>ACURA</td>\n",
       "      <td>ILX HYBRID</td>\n",
       "      <td>COMPACT</td>\n",
       "      <td>1.5</td>\n",
       "      <td>4</td>\n",
       "      <td>CVT</td>\n",
       "      <td>Premium gasoline</td>\n",
       "      <td>6.0</td>\n",
       "      <td>5.8</td>\n",
       "      <td>5.9</td>\n",
       "      <td>48</td>\n",
       "      <td>136</td>\n",
       "    </tr>\n",
       "    <tr>\n",
       "      <th>3</th>\n",
       "      <td>ACURA</td>\n",
       "      <td>MDX 4WD</td>\n",
       "      <td>SUV - SMALL</td>\n",
       "      <td>3.5</td>\n",
       "      <td>6</td>\n",
       "      <td>Automatic of Selective type</td>\n",
       "      <td>Premium gasoline</td>\n",
       "      <td>12.7</td>\n",
       "      <td>9.1</td>\n",
       "      <td>11.1</td>\n",
       "      <td>25</td>\n",
       "      <td>255</td>\n",
       "    </tr>\n",
       "    <tr>\n",
       "      <th>4</th>\n",
       "      <td>ACURA</td>\n",
       "      <td>RDX AWD</td>\n",
       "      <td>SUV - SMALL</td>\n",
       "      <td>3.5</td>\n",
       "      <td>6</td>\n",
       "      <td>Automatic of Selective type</td>\n",
       "      <td>Premium gasoline</td>\n",
       "      <td>12.1</td>\n",
       "      <td>8.7</td>\n",
       "      <td>10.6</td>\n",
       "      <td>27</td>\n",
       "      <td>244</td>\n",
       "    </tr>\n",
       "  </tbody>\n",
       "</table>\n",
       "</div>"
      ],
      "text/plain": [
       "    Make       Model Vehicle Class  Engine Size(L)  Cylinders  \\\n",
       "0  ACURA         ILX       COMPACT             2.0          4   \n",
       "1  ACURA         ILX       COMPACT             2.4          4   \n",
       "2  ACURA  ILX HYBRID       COMPACT             1.5          4   \n",
       "3  ACURA     MDX 4WD   SUV - SMALL             3.5          6   \n",
       "4  ACURA     RDX AWD   SUV - SMALL             3.5          6   \n",
       "\n",
       "                  Transmission         Fuel Type  \\\n",
       "0  Automatic of Selective type  Premium gasoline   \n",
       "1                       Manual  Premium gasoline   \n",
       "2                          CVT  Premium gasoline   \n",
       "3  Automatic of Selective type  Premium gasoline   \n",
       "4  Automatic of Selective type  Premium gasoline   \n",
       "\n",
       "   Fuel Consumption City (L/100 km)  Fuel Consumption Hwy (L/100 km)  \\\n",
       "0                               9.9                              6.7   \n",
       "1                              11.2                              7.7   \n",
       "2                               6.0                              5.8   \n",
       "3                              12.7                              9.1   \n",
       "4                              12.1                              8.7   \n",
       "\n",
       "   Fuel Consumption Comb (L/100 km)  Fuel Consumption Comb (mpg)  \\\n",
       "0                               8.5                           33   \n",
       "1                               9.6                           29   \n",
       "2                               5.9                           48   \n",
       "3                              11.1                           25   \n",
       "4                              10.6                           27   \n",
       "\n",
       "   CO2 Emissions(g/km)  \n",
       "0                  196  \n",
       "1                  221  \n",
       "2                  136  \n",
       "3                  255  \n",
       "4                  244  "
      ]
     },
     "execution_count": 11,
     "metadata": {},
     "output_type": "execute_result"
    }
   ],
   "source": [
    "data.head()"
   ]
  },
  {
   "cell_type": "code",
   "execution_count": 12,
   "id": "1e7675d1",
   "metadata": {},
   "outputs": [
    {
     "data": {
      "text/plain": [
       "Fuel Consumption Comb (mpg)        -0.907426\n",
       "Cylinders                           0.832644\n",
       "Engine Size(L)                      0.851145\n",
       "Fuel Consumption Hwy (L/100 km)     0.883536\n",
       "Fuel Consumption Comb (L/100 km)    0.918052\n",
       "Fuel Consumption City (L/100 km)    0.919592\n",
       "CO2 Emissions(g/km)                 1.000000\n",
       "Name: CO2 Emissions(g/km), dtype: float64"
      ]
     },
     "execution_count": 12,
     "metadata": {},
     "output_type": "execute_result"
    }
   ],
   "source": [
    "data.corr()['CO2 Emissions(g/km)'].sort_values()"
   ]
  },
  {
   "cell_type": "code",
   "execution_count": 13,
   "id": "e60048f7",
   "metadata": {},
   "outputs": [],
   "source": [
    "# Correlation between features and label\n",
    "\n",
    "Coorrelation=data.corr()"
   ]
  },
  {
   "cell_type": "code",
   "execution_count": 14,
   "id": "526ed508",
   "metadata": {},
   "outputs": [
    {
     "data": {
      "text/plain": [
       "Text(0.5, 1.0, 'Correlation Matrix')"
      ]
     },
     "execution_count": 14,
     "metadata": {},
     "output_type": "execute_result"
    },
    {
     "data": {
      "image/png": "[encoded data removed]",
      "text/plain": [
       "<Figure size 1080x720 with 2 Axes>"
      ]
     },
     "metadata": {
      "needs_background": "light"
     },
     "output_type": "display_data"
    }
   ],
   "source": [
    "plt.rcParams['figure.figsize']=(15,10)\n",
    "sns.heatmap(Coorrelation, cmap='PiYG', linewidth=0.5, fmt='0.2f', annot=True)\n",
    "\n",
    "plt.title('Correlation Matrix')"
   ]
  },
  {
   "cell_type": "code",
   "execution_count": 15,
   "id": "01e996d2",
   "metadata": {},
   "outputs": [
    {
     "data": {
      "text/plain": [
       "array([[<AxesSubplot:title={'center':'Engine Size(L)'}>,\n",
       "        <AxesSubplot:title={'center':'Cylinders'}>,\n",
       "        <AxesSubplot:title={'center':'Fuel Consumption City (L/100 km)'}>],\n",
       "       [<AxesSubplot:title={'center':'Fuel Consumption Hwy (L/100 km)'}>,\n",
       "        <AxesSubplot:title={'center':'Fuel Consumption Comb (L/100 km)'}>,\n",
       "        <AxesSubplot:title={'center':'Fuel Consumption Comb (mpg)'}>],\n",
       "       [<AxesSubplot:title={'center':'CO2 Emissions(g/km)'}>,\n",
       "        <AxesSubplot:>, <AxesSubplot:>]], dtype=object)"
      ]
     },
     "execution_count": 15,
     "metadata": {},
     "output_type": "execute_result"
    },
    {
     "data": {
      "image/png": "[encoded data removed]",
      "text/plain": [
       "<Figure size 1080x936 with 9 Axes>"
      ]
     },
     "metadata": {
      "needs_background": "light"
     },
     "output_type": "display_data"
    }
   ],
   "source": [
    "# Distribution of numerical features\n",
    "\n",
    "data.hist(figsize=(15,13),color=\"g\",bins=50)\n",
    "# Numerical features are little right skewed."
   ]
  },
  {
   "cell_type": "code",
   "execution_count": 16,
   "id": "c1a6b076",
   "metadata": {},
   "outputs": [],
   "source": [
    "# Frequency Distribution"
   ]
  },
  {
   "cell_type": "code",
   "execution_count": 17,
   "id": "f331d101",
   "metadata": {},
   "outputs": [
    {
     "data": {
      "image/png": "[encoded data removed]",
      "text/plain": [
       "<Figure size 1296x360 with 1 Axes>"
      ]
     },
     "metadata": {
      "needs_background": "light"
     },
     "output_type": "display_data"
    }
   ],
   "source": [
    "#Make\n",
    "plt.figure(figsize=(18,5))\n",
    "\n",
    "data.groupby('Make')['Make'].count().sort_values(ascending=False).plot(kind='bar',color='b')\n",
    "\n",
    "plt.title('Frequency distribution of cars of different Make', fontsize=30)\n",
    "plt.xlabel('Make', fontsize=22)\n",
    "plt.ylabel('Frequency', fontsize=22)\n",
    "plt.xticks(rotation=45)\n",
    "plt.tight_layout()\n",
    "plt.show()"
   ]
  },
  {
   "cell_type": "code",
   "execution_count": 18,
   "id": "813b5177",
   "metadata": {},
   "outputs": [
    {
     "data": {
      "image/png": "[encoded data removed]",
      "text/plain": [
       "<Figure size 1296x360 with 1 Axes>"
      ]
     },
     "metadata": {
      "needs_background": "light"
     },
     "output_type": "display_data"
    }
   ],
   "source": [
    "# MODEL\n",
    "plt.figure(figsize=(18,5))\n",
    "\n",
    "data.groupby('Model')['Model'].count().sort_values(ascending=False)[:25].plot(kind='bar')\n",
    "\n",
    "plt.title('Distribution of models', fontsize=30)\n",
    "plt.xlabel('Models', fontsize=26)\n",
    "plt.ylabel('Frequency', fontsize=26)\n",
    "plt.xticks(rotation=90)\n",
    "plt.tight_layout()\n",
    "plt.show()"
   ]
  },
  {
   "cell_type": "code",
   "execution_count": 19,
   "id": "40d95254",
   "metadata": {},
   "outputs": [
    {
     "data": {
      "image/png": "[encoded data removed]",
      "text/plain": [
       "<Figure size 1296x360 with 1 Axes>"
      ]
     },
     "metadata": {
      "needs_background": "light"
     },
     "output_type": "display_data"
    }
   ],
   "source": [
    "# Vehicle Class\n",
    "\n",
    "plt.figure(figsize=(18,5))\n",
    "\n",
    "data.groupby('Vehicle Class')['Vehicle Class'].count().sort_values(ascending=False).plot(kind='bar', color='green')\n",
    "\n",
    "plt.title('Vehicle class distribution', fontsize=30)\n",
    "plt.xlabel('Vehicle Class', fontsize=22)\n",
    "plt.ylabel('Frequency', fontsize=22)\n",
    "plt.xticks(rotation=45)\n",
    "plt.tight_layout()\n",
    "plt.show()"
   ]
  },
  {
   "cell_type": "code",
   "execution_count": 20,
   "id": "a5276cd0",
   "metadata": {},
   "outputs": [
    {
     "data": {
      "image/png": "[encoded data removed]",
      "text/plain": [
       "<Figure size 1296x360 with 1 Axes>"
      ]
     },
     "metadata": {
      "needs_background": "light"
     },
     "output_type": "display_data"
    }
   ],
   "source": [
    "# Transmission\n",
    "\n",
    "plt.figure(figsize=(18,5))\n",
    "\n",
    "data.groupby('Transmission')['Transmission'].count().sort_values(ascending=False).plot(kind='bar', color='magenta')\n",
    "\n",
    "plt.title('Distribution of transmission', fontsize=30)\n",
    "plt.xlabel('Transmission type', fontsize=26)\n",
    "plt.ylabel('Frequency', fontsize=26)\n",
    "plt.xticks(rotation=45)\n",
    "plt.tight_layout()\n",
    "plt.show()"
   ]
  },
  {
   "cell_type": "code",
   "execution_count": 21,
   "id": "06abe278",
   "metadata": {},
   "outputs": [
    {
     "data": {
      "image/png": "[encoded data removed]",
      "text/plain": [
       "<Figure size 1296x360 with 1 Axes>"
      ]
     },
     "metadata": {
      "needs_background": "light"
     },
     "output_type": "display_data"
    }
   ],
   "source": [
    "# Fuel Type\n",
    "\n",
    "plt.figure(figsize=(18,5))\n",
    "\n",
    "data.groupby('Fuel Type')['Fuel Type'].count().sort_values(ascending=False).plot(kind='bar')\n",
    "\n",
    "plt.title(' Most frequently used Fuel type', fontsize=30)\n",
    "plt.xlabel('Fuel Type', fontsize=26)\n",
    "plt.ylabel('Frequency', fontsize=26)\n",
    "plt.xticks(rotation=45)\n",
    "plt.tight_layout()\n",
    "plt.show()"
   ]
  },
  {
   "cell_type": "code",
   "execution_count": 22,
   "id": "2a41de4e",
   "metadata": {},
   "outputs": [
    {
     "data": {
      "image/png": "[encoded data removed]",
      "text/plain": [
       "<Figure size 1296x360 with 1 Axes>"
      ]
     },
     "metadata": {
      "needs_background": "light"
     },
     "output_type": "display_data"
    }
   ],
   "source": [
    "# Cylinders\n",
    "\n",
    "plt.figure(figsize=(18,5))\n",
    "\n",
    "data.groupby('Cylinders')['Cylinders'].count().sort_values(ascending=True).plot(kind='bar', color='purple')\n",
    "\n",
    "plt.title(' Cylinder', fontsize=30)\n",
    "plt.xlabel('Cylinders', fontsize=26)\n",
    "plt.ylabel('Frequency', fontsize=26)\n",
    "plt.xticks(rotation=0)\n",
    "#plt.tight_layout()\n",
    "plt.show()"
   ]
  },
  {
   "cell_type": "code",
   "execution_count": 23,
   "id": "a3f5e85a",
   "metadata": {},
   "outputs": [
    {
     "data": {
      "image/png": "[encoded data removed]",
      "text/plain": [
       "<Figure size 1296x360 with 1 Axes>"
      ]
     },
     "metadata": {
      "needs_background": "light"
     },
     "output_type": "display_data"
    }
   ],
   "source": [
    "# Visualisation wrt CO2 emision\n",
    "\n",
    "plt.figure(figsize=(18,5))\n",
    "\n",
    "data.groupby('Make')['CO2 Emissions(g/km)'].mean().sort_values(ascending=False)[:25].plot(kind='bar', color='red')\n",
    "\n",
    "plt.title('Car brands wrt CO2 emission', fontsize=30)\n",
    "plt.xlabel('Car brands', fontsize=26)\n",
    "plt.ylabel('CO2 emission', fontsize=26)\n",
    "plt.xticks(rotation=90)\n",
    "plt.tight_layout()\n",
    "plt.show()"
   ]
  },
  {
   "cell_type": "code",
   "execution_count": 24,
   "id": "8b71fbe9",
   "metadata": {},
   "outputs": [
    {
     "data": {
      "image/png": "[encoded data removed]",
      "text/plain": [
       "<Figure size 1296x360 with 1 Axes>"
      ]
     },
     "metadata": {
      "needs_background": "light"
     },
     "output_type": "display_data"
    }
   ],
   "source": [
    "#Vehicle Class\n",
    "plt.figure(figsize=(18,5))\n",
    "\n",
    "data.groupby('Vehicle Class')['CO2 Emissions(g/km)'].mean().sort_values(ascending=False).plot(kind='bar',color='g')\n",
    "\n",
    "plt.title('CO2 emission wrt vehicle class', fontsize=30)\n",
    "plt.xlabel('Vehicle class' , fontsize=26)\n",
    "plt.ylabel('Co2 emission', fontsize=26)\n",
    "plt.xticks(rotation=45)\n",
    "plt.tight_layout()\n",
    "plt.show()"
   ]
  },
  {
   "cell_type": "code",
   "execution_count": 25,
   "id": "dc2dde31",
   "metadata": {},
   "outputs": [
    {
     "data": {
      "image/png": "[encoded data removed]",
      "text/plain": [
       "<Figure size 1296x360 with 1 Axes>"
      ]
     },
     "metadata": {
      "needs_background": "light"
     },
     "output_type": "display_data"
    }
   ],
   "source": [
    "# Fuel Type\n",
    "plt.figure(figsize=(18,5))\n",
    "\n",
    "data.groupby('Fuel Type')['CO2 Emissions(g/km)'].mean().sort_values(ascending=False).plot(kind='bar',color='m')\n",
    "\n",
    "plt.title('CO2 emission wrt fuel type', fontsize=30)\n",
    "plt.xlabel('Fuel Type', fontsize=26)\n",
    "plt.ylabel('Co2 emission', fontsize=26)\n",
    "plt.xticks(rotation=45)\n",
    "plt.tight_layout()\n",
    "plt.show()"
   ]
  },
  {
   "cell_type": "code",
   "execution_count": 26,
   "id": "39ac1959",
   "metadata": {},
   "outputs": [
    {
     "data": {
      "image/png": "[encoded data removed]",
      "text/plain": [
       "<Figure size 720x576 with 1 Axes>"
      ]
     },
     "metadata": {
      "needs_background": "light"
     },
     "output_type": "display_data"
    }
   ],
   "source": [
    "fuel_type = data.groupby('Fuel Type')['CO2 Emissions(g/km)'].median().sort_values(ascending=False).index\n",
    "plt.figure(figsize=(10,8))\n",
    "sns.boxplot(x = 'Fuel Type', y='CO2 Emissions(g/km)', data =data, order=fuel_type, width=0.45)\n",
    "plt.xticks(rotation=45, horizontalalignment='center')\n",
    "\n",
    "plt.show()"
   ]
  },
  {
   "cell_type": "code",
   "execution_count": 27,
   "id": "23ad2fb3",
   "metadata": {},
   "outputs": [
    {
     "data": {
      "image/png": "[encoded data removed]",
      "text/plain": [
       "<Figure size 1296x360 with 1 Axes>"
      ]
     },
     "metadata": {
      "needs_background": "light"
     },
     "output_type": "display_data"
    }
   ],
   "source": [
    "plt.figure(figsize=(18,5))\n",
    "\n",
    "data.groupby('Transmission')['CO2 Emissions(g/km)'].mean().sort_values(ascending=False).plot(kind='bar')\n",
    "\n",
    "plt.title('Transmission wrt CO2 emission', fontsize=30)\n",
    "plt.xlabel('Transmission type', fontsize=26)\n",
    "plt.ylabel('CO2 emission', fontsize=26)\n",
    "plt.xticks(rotation=45)\n",
    "plt.tight_layout()\n",
    "plt.show()"
   ]
  },
  {
   "cell_type": "code",
   "execution_count": 28,
   "id": "95ada1c9",
   "metadata": {},
   "outputs": [
    {
     "data": {
      "image/png": "[encoded data removed]",
      "text/plain": [
       "<Figure size 720x576 with 1 Axes>"
      ]
     },
     "metadata": {
      "needs_background": "light"
     },
     "output_type": "display_data"
    }
   ],
   "source": [
    "plt.figure(figsize=(10,8))\n",
    "sns.barplot(x = 'Fuel Consumption Comb (mpg)', y='CO2 Emissions(g/km)', data =data[:25])\n",
    "\n",
    "plt.xticks(rotation=45)\n",
    "plt.show()"
   ]
  },
  {
   "cell_type": "code",
   "execution_count": 29,
   "id": "ac16317b",
   "metadata": {},
   "outputs": [
    {
     "data": {
      "text/plain": [
       "<Figure size 720x576 with 0 Axes>"
      ]
     },
     "metadata": {},
     "output_type": "display_data"
    },
    {
     "data": {
      "image/png": "[encoded data removed]",
      "text/plain": [
       "<Figure size 360x360 with 1 Axes>"
      ]
     },
     "metadata": {
      "needs_background": "light"
     },
     "output_type": "display_data"
    }
   ],
   "source": [
    "plt.figure(figsize=(10,8))\n",
    "\n",
    "sns.catplot(x='Cylinders', y='Fuel Consumption Comb (mpg)',data = data)\n",
    "\n",
    "plt.show()  "
   ]
  },
  {
   "cell_type": "code",
   "execution_count": 30,
   "id": "43d1b03a",
   "metadata": {},
   "outputs": [
    {
     "data": {
      "text/plain": [
       "<Figure size 720x576 with 0 Axes>"
      ]
     },
     "metadata": {},
     "output_type": "display_data"
    },
    {
     "data": {
      "image/png": "[encoded data removed]",
      "text/plain": [
       "<Figure size 360x360 with 1 Axes>"
      ]
     },
     "metadata": {
      "needs_background": "light"
     },
     "output_type": "display_data"
    }
   ],
   "source": [
    "plt.figure(figsize=(10,8))\n",
    "\n",
    "sns.catplot(x='Cylinders', y='CO2 Emissions(g/km)',data = data)\n",
    "\n",
    "plt.show()                                                         # co2 emission increases with increasing no of cylinders"
   ]
  },
  {
   "cell_type": "code",
   "execution_count": 31,
   "id": "16a4dae4",
   "metadata": {},
   "outputs": [
    {
     "data": {
      "image/png": "[encoded data removed]",
      "text/plain": [
       "<Figure size 720x576 with 1 Axes>"
      ]
     },
     "metadata": {
      "needs_background": "light"
     },
     "output_type": "display_data"
    }
   ],
   "source": [
    "plt.figure(figsize=(10,8))\n",
    "sns.boxplot(x = 'Fuel Type', y='Fuel Consumption Comb (mpg)', data =data)\n",
    "\n",
    "plt.xticks([0,1,2,3,4],['Premium Gasoline','Disel', 'Regular Gasoline','Ethanol', 'Natural Gas'])\n",
    "plt.show()                                                                                            # efficiency of fuel "
   ]
  },
  {
   "cell_type": "markdown",
   "id": "90cd07e4",
   "metadata": {},
   "source": [
    "# DATA PREPROCESSING"
   ]
  },
  {
   "cell_type": "code",
   "execution_count": 32,
   "id": "ac18763a",
   "metadata": {},
   "outputs": [
    {
     "data": {
      "text/html": [
       "<div>\n",
       "<style scoped>\n",
       "    .dataframe tbody tr th:only-of-type {\n",
       "        vertical-align: middle;\n",
       "    }\n",
       "\n",
       "    .dataframe tbody tr th {\n",
       "        vertical-align: top;\n",
       "    }\n",
       "\n",
       "    .dataframe thead th {\n",
       "        text-align: right;\n",
       "    }\n",
       "</style>\n",
       "<table border=\"1\" class=\"dataframe\">\n",
       "  <thead>\n",
       "    <tr style=\"text-align: right;\">\n",
       "      <th></th>\n",
       "      <th>Make</th>\n",
       "      <th>Model</th>\n",
       "      <th>Vehicle Class</th>\n",
       "      <th>Engine Size(L)</th>\n",
       "      <th>Cylinders</th>\n",
       "      <th>Transmission</th>\n",
       "      <th>Fuel Type</th>\n",
       "      <th>Fuel Consumption City (L/100 km)</th>\n",
       "      <th>Fuel Consumption Hwy (L/100 km)</th>\n",
       "      <th>Fuel Consumption Comb (L/100 km)</th>\n",
       "      <th>Fuel Consumption Comb (mpg)</th>\n",
       "      <th>CO2 Emissions(g/km)</th>\n",
       "    </tr>\n",
       "  </thead>\n",
       "  <tbody>\n",
       "    <tr>\n",
       "      <th>0</th>\n",
       "      <td>ACURA</td>\n",
       "      <td>ILX</td>\n",
       "      <td>COMPACT</td>\n",
       "      <td>2.0</td>\n",
       "      <td>4</td>\n",
       "      <td>Automatic of Selective type</td>\n",
       "      <td>Premium gasoline</td>\n",
       "      <td>9.9</td>\n",
       "      <td>6.7</td>\n",
       "      <td>8.5</td>\n",
       "      <td>33</td>\n",
       "      <td>196</td>\n",
       "    </tr>\n",
       "    <tr>\n",
       "      <th>1</th>\n",
       "      <td>ACURA</td>\n",
       "      <td>ILX</td>\n",
       "      <td>COMPACT</td>\n",
       "      <td>2.4</td>\n",
       "      <td>4</td>\n",
       "      <td>Manual</td>\n",
       "      <td>Premium gasoline</td>\n",
       "      <td>11.2</td>\n",
       "      <td>7.7</td>\n",
       "      <td>9.6</td>\n",
       "      <td>29</td>\n",
       "      <td>221</td>\n",
       "    </tr>\n",
       "    <tr>\n",
       "      <th>2</th>\n",
       "      <td>ACURA</td>\n",
       "      <td>ILX HYBRID</td>\n",
       "      <td>COMPACT</td>\n",
       "      <td>1.5</td>\n",
       "      <td>4</td>\n",
       "      <td>CVT</td>\n",
       "      <td>Premium gasoline</td>\n",
       "      <td>6.0</td>\n",
       "      <td>5.8</td>\n",
       "      <td>5.9</td>\n",
       "      <td>48</td>\n",
       "      <td>136</td>\n",
       "    </tr>\n",
       "    <tr>\n",
       "      <th>3</th>\n",
       "      <td>ACURA</td>\n",
       "      <td>MDX 4WD</td>\n",
       "      <td>SUV - SMALL</td>\n",
       "      <td>3.5</td>\n",
       "      <td>6</td>\n",
       "      <td>Automatic of Selective type</td>\n",
       "      <td>Premium gasoline</td>\n",
       "      <td>12.7</td>\n",
       "      <td>9.1</td>\n",
       "      <td>11.1</td>\n",
       "      <td>25</td>\n",
       "      <td>255</td>\n",
       "    </tr>\n",
       "    <tr>\n",
       "      <th>4</th>\n",
       "      <td>ACURA</td>\n",
       "      <td>RDX AWD</td>\n",
       "      <td>SUV - SMALL</td>\n",
       "      <td>3.5</td>\n",
       "      <td>6</td>\n",
       "      <td>Automatic of Selective type</td>\n",
       "      <td>Premium gasoline</td>\n",
       "      <td>12.1</td>\n",
       "      <td>8.7</td>\n",
       "      <td>10.6</td>\n",
       "      <td>27</td>\n",
       "      <td>244</td>\n",
       "    </tr>\n",
       "  </tbody>\n",
       "</table>\n",
       "</div>"
      ],
      "text/plain": [
       "    Make       Model Vehicle Class  Engine Size(L)  Cylinders  \\\n",
       "0  ACURA         ILX       COMPACT             2.0          4   \n",
       "1  ACURA         ILX       COMPACT             2.4          4   \n",
       "2  ACURA  ILX HYBRID       COMPACT             1.5          4   \n",
       "3  ACURA     MDX 4WD   SUV - SMALL             3.5          6   \n",
       "4  ACURA     RDX AWD   SUV - SMALL             3.5          6   \n",
       "\n",
       "                  Transmission         Fuel Type  \\\n",
       "0  Automatic of Selective type  Premium gasoline   \n",
       "1                       Manual  Premium gasoline   \n",
       "2                          CVT  Premium gasoline   \n",
       "3  Automatic of Selective type  Premium gasoline   \n",
       "4  Automatic of Selective type  Premium gasoline   \n",
       "\n",
       "   Fuel Consumption City (L/100 km)  Fuel Consumption Hwy (L/100 km)  \\\n",
       "0                               9.9                              6.7   \n",
       "1                              11.2                              7.7   \n",
       "2                               6.0                              5.8   \n",
       "3                              12.7                              9.1   \n",
       "4                              12.1                              8.7   \n",
       "\n",
       "   Fuel Consumption Comb (L/100 km)  Fuel Consumption Comb (mpg)  \\\n",
       "0                               8.5                           33   \n",
       "1                               9.6                           29   \n",
       "2                               5.9                           48   \n",
       "3                              11.1                           25   \n",
       "4                              10.6                           27   \n",
       "\n",
       "   CO2 Emissions(g/km)  \n",
       "0                  196  \n",
       "1                  221  \n",
       "2                  136  \n",
       "3                  255  \n",
       "4                  244  "
      ]
     },
     "execution_count": 32,
     "metadata": {},
     "output_type": "execute_result"
    }
   ],
   "source": [
    "# DATA PREPROCESSING\n",
    "\n",
    "data.head()"
   ]
  },
  {
   "cell_type": "code",
   "execution_count": 33,
   "id": "f325bfa7",
   "metadata": {},
   "outputs": [
    {
     "data": {
      "text/plain": [
       "Automatic of Selective type    3127\n",
       "Automatic                      1851\n",
       "Manual                         1185\n",
       "Automated Manual                646\n",
       "CVT                             576\n",
       "Name: Transmission, dtype: int64"
      ]
     },
     "execution_count": 33,
     "metadata": {},
     "output_type": "execute_result"
    }
   ],
   "source": [
    "data['Transmission'].value_counts()"
   ]
  },
  {
   "cell_type": "code",
   "execution_count": 34,
   "id": "1fc82fd1",
   "metadata": {},
   "outputs": [
    {
     "data": {
      "text/plain": [
       "Regular gasoline    3637\n",
       "Premium gasoline    3202\n",
       "Ethanol              370\n",
       "Diesel               175\n",
       "Natural gas            1\n",
       "Name: Fuel Type, dtype: int64"
      ]
     },
     "execution_count": 34,
     "metadata": {},
     "output_type": "execute_result"
    }
   ],
   "source": [
    "data['Fuel Type'].value_counts()"
   ]
  },
  {
   "cell_type": "code",
   "execution_count": 35,
   "id": "8ed85efa",
   "metadata": {},
   "outputs": [
    {
     "data": {
      "text/html": [
       "<div>\n",
       "<style scoped>\n",
       "    .dataframe tbody tr th:only-of-type {\n",
       "        vertical-align: middle;\n",
       "    }\n",
       "\n",
       "    .dataframe tbody tr th {\n",
       "        vertical-align: top;\n",
       "    }\n",
       "\n",
       "    .dataframe thead th {\n",
       "        text-align: right;\n",
       "    }\n",
       "</style>\n",
       "<table border=\"1\" class=\"dataframe\">\n",
       "  <thead>\n",
       "    <tr style=\"text-align: right;\">\n",
       "      <th></th>\n",
       "      <th>Make</th>\n",
       "      <th>Model</th>\n",
       "      <th>Vehicle Class</th>\n",
       "      <th>Engine Size(L)</th>\n",
       "      <th>Cylinders</th>\n",
       "      <th>Transmission</th>\n",
       "      <th>Fuel Type</th>\n",
       "      <th>Fuel Consumption City (L/100 km)</th>\n",
       "      <th>Fuel Consumption Hwy (L/100 km)</th>\n",
       "      <th>Fuel Consumption Comb (L/100 km)</th>\n",
       "      <th>Fuel Consumption Comb (mpg)</th>\n",
       "      <th>CO2 Emissions(g/km)</th>\n",
       "    </tr>\n",
       "  </thead>\n",
       "  <tbody>\n",
       "    <tr>\n",
       "      <th>2439</th>\n",
       "      <td>CHEVROLET</td>\n",
       "      <td>IMPALA DUAL FUEL</td>\n",
       "      <td>MID-SIZE</td>\n",
       "      <td>3.6</td>\n",
       "      <td>6</td>\n",
       "      <td>Automatic of Selective type</td>\n",
       "      <td>Natural gas</td>\n",
       "      <td>15.2</td>\n",
       "      <td>9.5</td>\n",
       "      <td>12.7</td>\n",
       "      <td>22</td>\n",
       "      <td>213</td>\n",
       "    </tr>\n",
       "  </tbody>\n",
       "</table>\n",
       "</div>"
      ],
      "text/plain": [
       "           Make             Model Vehicle Class  Engine Size(L)  Cylinders  \\\n",
       "2439  CHEVROLET  IMPALA DUAL FUEL      MID-SIZE             3.6          6   \n",
       "\n",
       "                     Transmission    Fuel Type  \\\n",
       "2439  Automatic of Selective type  Natural gas   \n",
       "\n",
       "      Fuel Consumption City (L/100 km)  Fuel Consumption Hwy (L/100 km)  \\\n",
       "2439                              15.2                              9.5   \n",
       "\n",
       "      Fuel Consumption Comb (L/100 km)  Fuel Consumption Comb (mpg)  \\\n",
       "2439                              12.7                           22   \n",
       "\n",
       "      CO2 Emissions(g/km)  \n",
       "2439                  213  "
      ]
     },
     "execution_count": 35,
     "metadata": {},
     "output_type": "execute_result"
    }
   ],
   "source": [
    "# Dropping natural gas as there is only one data we have which would not make much difference in modelling\n",
    "\n",
    "data_N = data[data['Fuel Type']== 'Natural gas']\n",
    "\n",
    "ind = data_N.index\n",
    "\n",
    "data_N"
   ]
  },
  {
   "cell_type": "code",
   "execution_count": 36,
   "id": "41a0cb57",
   "metadata": {},
   "outputs": [],
   "source": [
    "for i in ind:\n",
    "    data.drop(i, axis=0, inplace=True)     "
   ]
  },
  {
   "cell_type": "code",
   "execution_count": 37,
   "id": "d9e194e1",
   "metadata": {},
   "outputs": [
    {
     "data": {
      "text/html": [
       "<div>\n",
       "<style scoped>\n",
       "    .dataframe tbody tr th:only-of-type {\n",
       "        vertical-align: middle;\n",
       "    }\n",
       "\n",
       "    .dataframe tbody tr th {\n",
       "        vertical-align: top;\n",
       "    }\n",
       "\n",
       "    .dataframe thead th {\n",
       "        text-align: right;\n",
       "    }\n",
       "</style>\n",
       "<table border=\"1\" class=\"dataframe\">\n",
       "  <thead>\n",
       "    <tr style=\"text-align: right;\">\n",
       "      <th></th>\n",
       "      <th>Make</th>\n",
       "      <th>Model</th>\n",
       "      <th>Vehicle Class</th>\n",
       "      <th>Engine Size(L)</th>\n",
       "      <th>Cylinders</th>\n",
       "      <th>Transmission</th>\n",
       "      <th>Fuel Type</th>\n",
       "      <th>Fuel Consumption City (L/100 km)</th>\n",
       "      <th>Fuel Consumption Hwy (L/100 km)</th>\n",
       "      <th>Fuel Consumption Comb (L/100 km)</th>\n",
       "      <th>Fuel Consumption Comb (mpg)</th>\n",
       "      <th>CO2 Emissions(g/km)</th>\n",
       "    </tr>\n",
       "  </thead>\n",
       "  <tbody>\n",
       "  </tbody>\n",
       "</table>\n",
       "</div>"
      ],
      "text/plain": [
       "Empty DataFrame\n",
       "Columns: [Make, Model, Vehicle Class, Engine Size(L), Cylinders, Transmission, Fuel Type, Fuel Consumption City (L/100 km), Fuel Consumption Hwy (L/100 km), Fuel Consumption Comb (L/100 km), Fuel Consumption Comb (mpg), CO2 Emissions(g/km)]\n",
       "Index: []"
      ]
     },
     "execution_count": 37,
     "metadata": {},
     "output_type": "execute_result"
    }
   ],
   "source": [
    "data[data['Fuel Type']=='Natural gas']"
   ]
  },
  {
   "cell_type": "code",
   "execution_count": 38,
   "id": "b5ebd336",
   "metadata": {},
   "outputs": [
    {
     "data": {
      "text/html": [
       "<div>\n",
       "<style scoped>\n",
       "    .dataframe tbody tr th:only-of-type {\n",
       "        vertical-align: middle;\n",
       "    }\n",
       "\n",
       "    .dataframe tbody tr th {\n",
       "        vertical-align: top;\n",
       "    }\n",
       "\n",
       "    .dataframe thead th {\n",
       "        text-align: right;\n",
       "    }\n",
       "</style>\n",
       "<table border=\"1\" class=\"dataframe\">\n",
       "  <thead>\n",
       "    <tr style=\"text-align: right;\">\n",
       "      <th></th>\n",
       "      <th>Fuel_Ethanol</th>\n",
       "      <th>Fuel_Premium gasoline</th>\n",
       "      <th>Fuel_Regular gasoline</th>\n",
       "    </tr>\n",
       "  </thead>\n",
       "  <tbody>\n",
       "    <tr>\n",
       "      <th>0</th>\n",
       "      <td>0</td>\n",
       "      <td>1</td>\n",
       "      <td>0</td>\n",
       "    </tr>\n",
       "    <tr>\n",
       "      <th>1</th>\n",
       "      <td>0</td>\n",
       "      <td>1</td>\n",
       "      <td>0</td>\n",
       "    </tr>\n",
       "    <tr>\n",
       "      <th>2</th>\n",
       "      <td>0</td>\n",
       "      <td>1</td>\n",
       "      <td>0</td>\n",
       "    </tr>\n",
       "    <tr>\n",
       "      <th>3</th>\n",
       "      <td>0</td>\n",
       "      <td>1</td>\n",
       "      <td>0</td>\n",
       "    </tr>\n",
       "    <tr>\n",
       "      <th>4</th>\n",
       "      <td>0</td>\n",
       "      <td>1</td>\n",
       "      <td>0</td>\n",
       "    </tr>\n",
       "  </tbody>\n",
       "</table>\n",
       "</div>"
      ],
      "text/plain": [
       "   Fuel_Ethanol  Fuel_Premium gasoline  Fuel_Regular gasoline\n",
       "0             0                      1                      0\n",
       "1             0                      1                      0\n",
       "2             0                      1                      0\n",
       "3             0                      1                      0\n",
       "4             0                      1                      0"
      ]
     },
     "execution_count": 38,
     "metadata": {},
     "output_type": "execute_result"
    }
   ],
   "source": [
    "# creating dummy variables of fuel type and transmission (catagorical features)\n",
    "\n",
    "dummy_v =pd.get_dummies(data['Fuel Type'], prefix='Fuel', drop_first=True)\n",
    "dummyv = pd.get_dummies(data[\"Transmission\"], drop_first=True)\n",
    "dummy_v.head()\n"
   ]
  },
  {
   "cell_type": "code",
   "execution_count": 39,
   "id": "760305de",
   "metadata": {},
   "outputs": [
    {
     "data": {
      "text/html": [
       "<div>\n",
       "<style scoped>\n",
       "    .dataframe tbody tr th:only-of-type {\n",
       "        vertical-align: middle;\n",
       "    }\n",
       "\n",
       "    .dataframe tbody tr th {\n",
       "        vertical-align: top;\n",
       "    }\n",
       "\n",
       "    .dataframe thead th {\n",
       "        text-align: right;\n",
       "    }\n",
       "</style>\n",
       "<table border=\"1\" class=\"dataframe\">\n",
       "  <thead>\n",
       "    <tr style=\"text-align: right;\">\n",
       "      <th></th>\n",
       "      <th>Automatic</th>\n",
       "      <th>Automatic of Selective type</th>\n",
       "      <th>CVT</th>\n",
       "      <th>Manual</th>\n",
       "    </tr>\n",
       "  </thead>\n",
       "  <tbody>\n",
       "    <tr>\n",
       "      <th>0</th>\n",
       "      <td>0</td>\n",
       "      <td>1</td>\n",
       "      <td>0</td>\n",
       "      <td>0</td>\n",
       "    </tr>\n",
       "    <tr>\n",
       "      <th>1</th>\n",
       "      <td>0</td>\n",
       "      <td>0</td>\n",
       "      <td>0</td>\n",
       "      <td>1</td>\n",
       "    </tr>\n",
       "    <tr>\n",
       "      <th>2</th>\n",
       "      <td>0</td>\n",
       "      <td>0</td>\n",
       "      <td>1</td>\n",
       "      <td>0</td>\n",
       "    </tr>\n",
       "    <tr>\n",
       "      <th>3</th>\n",
       "      <td>0</td>\n",
       "      <td>1</td>\n",
       "      <td>0</td>\n",
       "      <td>0</td>\n",
       "    </tr>\n",
       "    <tr>\n",
       "      <th>4</th>\n",
       "      <td>0</td>\n",
       "      <td>1</td>\n",
       "      <td>0</td>\n",
       "      <td>0</td>\n",
       "    </tr>\n",
       "  </tbody>\n",
       "</table>\n",
       "</div>"
      ],
      "text/plain": [
       "   Automatic  Automatic of Selective type  CVT  Manual\n",
       "0          0                            1    0       0\n",
       "1          0                            0    0       1\n",
       "2          0                            0    1       0\n",
       "3          0                            1    0       0\n",
       "4          0                            1    0       0"
      ]
     },
     "execution_count": 39,
     "metadata": {},
     "output_type": "execute_result"
    }
   ],
   "source": [
    "dummyv.head()"
   ]
  },
  {
   "cell_type": "code",
   "execution_count": 40,
   "id": "d07f42d5",
   "metadata": {},
   "outputs": [
    {
     "data": {
      "text/html": [
       "<div>\n",
       "<style scoped>\n",
       "    .dataframe tbody tr th:only-of-type {\n",
       "        vertical-align: middle;\n",
       "    }\n",
       "\n",
       "    .dataframe tbody tr th {\n",
       "        vertical-align: top;\n",
       "    }\n",
       "\n",
       "    .dataframe thead th {\n",
       "        text-align: right;\n",
       "    }\n",
       "</style>\n",
       "<table border=\"1\" class=\"dataframe\">\n",
       "  <thead>\n",
       "    <tr style=\"text-align: right;\">\n",
       "      <th></th>\n",
       "      <th>Make</th>\n",
       "      <th>Model</th>\n",
       "      <th>Vehicle Class</th>\n",
       "      <th>Engine Size(L)</th>\n",
       "      <th>Cylinders</th>\n",
       "      <th>Transmission</th>\n",
       "      <th>Fuel Type</th>\n",
       "      <th>Fuel Consumption City (L/100 km)</th>\n",
       "      <th>Fuel Consumption Hwy (L/100 km)</th>\n",
       "      <th>Fuel Consumption Comb (L/100 km)</th>\n",
       "      <th>Fuel Consumption Comb (mpg)</th>\n",
       "      <th>CO2 Emissions(g/km)</th>\n",
       "      <th>Fuel_Ethanol</th>\n",
       "      <th>Fuel_Premium gasoline</th>\n",
       "      <th>Fuel_Regular gasoline</th>\n",
       "      <th>Automatic</th>\n",
       "      <th>Automatic of Selective type</th>\n",
       "      <th>CVT</th>\n",
       "      <th>Manual</th>\n",
       "    </tr>\n",
       "  </thead>\n",
       "  <tbody>\n",
       "    <tr>\n",
       "      <th>0</th>\n",
       "      <td>ACURA</td>\n",
       "      <td>ILX</td>\n",
       "      <td>COMPACT</td>\n",
       "      <td>2.0</td>\n",
       "      <td>4</td>\n",
       "      <td>Automatic of Selective type</td>\n",
       "      <td>Premium gasoline</td>\n",
       "      <td>9.9</td>\n",
       "      <td>6.7</td>\n",
       "      <td>8.5</td>\n",
       "      <td>33</td>\n",
       "      <td>196</td>\n",
       "      <td>0</td>\n",
       "      <td>1</td>\n",
       "      <td>0</td>\n",
       "      <td>0</td>\n",
       "      <td>1</td>\n",
       "      <td>0</td>\n",
       "      <td>0</td>\n",
       "    </tr>\n",
       "    <tr>\n",
       "      <th>1</th>\n",
       "      <td>ACURA</td>\n",
       "      <td>ILX</td>\n",
       "      <td>COMPACT</td>\n",
       "      <td>2.4</td>\n",
       "      <td>4</td>\n",
       "      <td>Manual</td>\n",
       "      <td>Premium gasoline</td>\n",
       "      <td>11.2</td>\n",
       "      <td>7.7</td>\n",
       "      <td>9.6</td>\n",
       "      <td>29</td>\n",
       "      <td>221</td>\n",
       "      <td>0</td>\n",
       "      <td>1</td>\n",
       "      <td>0</td>\n",
       "      <td>0</td>\n",
       "      <td>0</td>\n",
       "      <td>0</td>\n",
       "      <td>1</td>\n",
       "    </tr>\n",
       "    <tr>\n",
       "      <th>2</th>\n",
       "      <td>ACURA</td>\n",
       "      <td>ILX HYBRID</td>\n",
       "      <td>COMPACT</td>\n",
       "      <td>1.5</td>\n",
       "      <td>4</td>\n",
       "      <td>CVT</td>\n",
       "      <td>Premium gasoline</td>\n",
       "      <td>6.0</td>\n",
       "      <td>5.8</td>\n",
       "      <td>5.9</td>\n",
       "      <td>48</td>\n",
       "      <td>136</td>\n",
       "      <td>0</td>\n",
       "      <td>1</td>\n",
       "      <td>0</td>\n",
       "      <td>0</td>\n",
       "      <td>0</td>\n",
       "      <td>1</td>\n",
       "      <td>0</td>\n",
       "    </tr>\n",
       "    <tr>\n",
       "      <th>3</th>\n",
       "      <td>ACURA</td>\n",
       "      <td>MDX 4WD</td>\n",
       "      <td>SUV - SMALL</td>\n",
       "      <td>3.5</td>\n",
       "      <td>6</td>\n",
       "      <td>Automatic of Selective type</td>\n",
       "      <td>Premium gasoline</td>\n",
       "      <td>12.7</td>\n",
       "      <td>9.1</td>\n",
       "      <td>11.1</td>\n",
       "      <td>25</td>\n",
       "      <td>255</td>\n",
       "      <td>0</td>\n",
       "      <td>1</td>\n",
       "      <td>0</td>\n",
       "      <td>0</td>\n",
       "      <td>1</td>\n",
       "      <td>0</td>\n",
       "      <td>0</td>\n",
       "    </tr>\n",
       "    <tr>\n",
       "      <th>4</th>\n",
       "      <td>ACURA</td>\n",
       "      <td>RDX AWD</td>\n",
       "      <td>SUV - SMALL</td>\n",
       "      <td>3.5</td>\n",
       "      <td>6</td>\n",
       "      <td>Automatic of Selective type</td>\n",
       "      <td>Premium gasoline</td>\n",
       "      <td>12.1</td>\n",
       "      <td>8.7</td>\n",
       "      <td>10.6</td>\n",
       "      <td>27</td>\n",
       "      <td>244</td>\n",
       "      <td>0</td>\n",
       "      <td>1</td>\n",
       "      <td>0</td>\n",
       "      <td>0</td>\n",
       "      <td>1</td>\n",
       "      <td>0</td>\n",
       "      <td>0</td>\n",
       "    </tr>\n",
       "  </tbody>\n",
       "</table>\n",
       "</div>"
      ],
      "text/plain": [
       "    Make       Model Vehicle Class  Engine Size(L)  Cylinders  \\\n",
       "0  ACURA         ILX       COMPACT             2.0          4   \n",
       "1  ACURA         ILX       COMPACT             2.4          4   \n",
       "2  ACURA  ILX HYBRID       COMPACT             1.5          4   \n",
       "3  ACURA     MDX 4WD   SUV - SMALL             3.5          6   \n",
       "4  ACURA     RDX AWD   SUV - SMALL             3.5          6   \n",
       "\n",
       "                  Transmission         Fuel Type  \\\n",
       "0  Automatic of Selective type  Premium gasoline   \n",
       "1                       Manual  Premium gasoline   \n",
       "2                          CVT  Premium gasoline   \n",
       "3  Automatic of Selective type  Premium gasoline   \n",
       "4  Automatic of Selective type  Premium gasoline   \n",
       "\n",
       "   Fuel Consumption City (L/100 km)  Fuel Consumption Hwy (L/100 km)  \\\n",
       "0                               9.9                              6.7   \n",
       "1                              11.2                              7.7   \n",
       "2                               6.0                              5.8   \n",
       "3                              12.7                              9.1   \n",
       "4                              12.1                              8.7   \n",
       "\n",
       "   Fuel Consumption Comb (L/100 km)  Fuel Consumption Comb (mpg)  \\\n",
       "0                               8.5                           33   \n",
       "1                               9.6                           29   \n",
       "2                               5.9                           48   \n",
       "3                              11.1                           25   \n",
       "4                              10.6                           27   \n",
       "\n",
       "   CO2 Emissions(g/km)  Fuel_Ethanol  Fuel_Premium gasoline  \\\n",
       "0                  196             0                      1   \n",
       "1                  221             0                      1   \n",
       "2                  136             0                      1   \n",
       "3                  255             0                      1   \n",
       "4                  244             0                      1   \n",
       "\n",
       "   Fuel_Regular gasoline  Automatic  Automatic of Selective type  CVT  Manual  \n",
       "0                      0          0                            1    0       0  \n",
       "1                      0          0                            0    0       1  \n",
       "2                      0          0                            0    1       0  \n",
       "3                      0          0                            1    0       0  \n",
       "4                      0          0                            1    0       0  "
      ]
     },
     "execution_count": 40,
     "metadata": {},
     "output_type": "execute_result"
    }
   ],
   "source": [
    "df2 = [data, dummy_v,dummyv]\n",
    "\n",
    "ds = pd.concat(df2, axis=1)\n",
    "ds.head()"
   ]
  },
  {
   "cell_type": "code",
   "execution_count": 41,
   "id": "d293fc7e",
   "metadata": {},
   "outputs": [
    {
     "data": {
      "text/html": [
       "<div>\n",
       "<style scoped>\n",
       "    .dataframe tbody tr th:only-of-type {\n",
       "        vertical-align: middle;\n",
       "    }\n",
       "\n",
       "    .dataframe tbody tr th {\n",
       "        vertical-align: top;\n",
       "    }\n",
       "\n",
       "    .dataframe thead th {\n",
       "        text-align: right;\n",
       "    }\n",
       "</style>\n",
       "<table border=\"1\" class=\"dataframe\">\n",
       "  <thead>\n",
       "    <tr style=\"text-align: right;\">\n",
       "      <th></th>\n",
       "      <th>Make</th>\n",
       "      <th>Model</th>\n",
       "      <th>Vehicle Class</th>\n",
       "      <th>Engine Size(L)</th>\n",
       "      <th>Cylinders</th>\n",
       "      <th>Transmission</th>\n",
       "      <th>Fuel Type</th>\n",
       "      <th>Fuel Consumption City (L/100 km)</th>\n",
       "      <th>Fuel Consumption Hwy (L/100 km)</th>\n",
       "      <th>Fuel Consumption Comb (L/100 km)</th>\n",
       "      <th>Fuel Consumption Comb (mpg)</th>\n",
       "      <th>CO2 Emissions(g/km)</th>\n",
       "      <th>Fuel_Ethanol</th>\n",
       "      <th>Fuel_Premium gasoline</th>\n",
       "      <th>Fuel_Regular gasoline</th>\n",
       "      <th>Automatic</th>\n",
       "      <th>Automatic of Selective type</th>\n",
       "      <th>CVT</th>\n",
       "      <th>Manual</th>\n",
       "    </tr>\n",
       "  </thead>\n",
       "  <tbody>\n",
       "    <tr>\n",
       "      <th>0</th>\n",
       "      <td>ACURA</td>\n",
       "      <td>ILX</td>\n",
       "      <td>COMPACT</td>\n",
       "      <td>2.0</td>\n",
       "      <td>4</td>\n",
       "      <td>Automatic of Selective type</td>\n",
       "      <td>Premium gasoline</td>\n",
       "      <td>9.9</td>\n",
       "      <td>6.7</td>\n",
       "      <td>8.5</td>\n",
       "      <td>33</td>\n",
       "      <td>196</td>\n",
       "      <td>0</td>\n",
       "      <td>1</td>\n",
       "      <td>0</td>\n",
       "      <td>0</td>\n",
       "      <td>1</td>\n",
       "      <td>0</td>\n",
       "      <td>0</td>\n",
       "    </tr>\n",
       "    <tr>\n",
       "      <th>1</th>\n",
       "      <td>ACURA</td>\n",
       "      <td>ILX</td>\n",
       "      <td>COMPACT</td>\n",
       "      <td>2.4</td>\n",
       "      <td>4</td>\n",
       "      <td>Manual</td>\n",
       "      <td>Premium gasoline</td>\n",
       "      <td>11.2</td>\n",
       "      <td>7.7</td>\n",
       "      <td>9.6</td>\n",
       "      <td>29</td>\n",
       "      <td>221</td>\n",
       "      <td>0</td>\n",
       "      <td>1</td>\n",
       "      <td>0</td>\n",
       "      <td>0</td>\n",
       "      <td>0</td>\n",
       "      <td>0</td>\n",
       "      <td>1</td>\n",
       "    </tr>\n",
       "    <tr>\n",
       "      <th>2</th>\n",
       "      <td>ACURA</td>\n",
       "      <td>ILX HYBRID</td>\n",
       "      <td>COMPACT</td>\n",
       "      <td>1.5</td>\n",
       "      <td>4</td>\n",
       "      <td>CVT</td>\n",
       "      <td>Premium gasoline</td>\n",
       "      <td>6.0</td>\n",
       "      <td>5.8</td>\n",
       "      <td>5.9</td>\n",
       "      <td>48</td>\n",
       "      <td>136</td>\n",
       "      <td>0</td>\n",
       "      <td>1</td>\n",
       "      <td>0</td>\n",
       "      <td>0</td>\n",
       "      <td>0</td>\n",
       "      <td>1</td>\n",
       "      <td>0</td>\n",
       "    </tr>\n",
       "    <tr>\n",
       "      <th>3</th>\n",
       "      <td>ACURA</td>\n",
       "      <td>MDX 4WD</td>\n",
       "      <td>SUV - SMALL</td>\n",
       "      <td>3.5</td>\n",
       "      <td>6</td>\n",
       "      <td>Automatic of Selective type</td>\n",
       "      <td>Premium gasoline</td>\n",
       "      <td>12.7</td>\n",
       "      <td>9.1</td>\n",
       "      <td>11.1</td>\n",
       "      <td>25</td>\n",
       "      <td>255</td>\n",
       "      <td>0</td>\n",
       "      <td>1</td>\n",
       "      <td>0</td>\n",
       "      <td>0</td>\n",
       "      <td>1</td>\n",
       "      <td>0</td>\n",
       "      <td>0</td>\n",
       "    </tr>\n",
       "    <tr>\n",
       "      <th>4</th>\n",
       "      <td>ACURA</td>\n",
       "      <td>RDX AWD</td>\n",
       "      <td>SUV - SMALL</td>\n",
       "      <td>3.5</td>\n",
       "      <td>6</td>\n",
       "      <td>Automatic of Selective type</td>\n",
       "      <td>Premium gasoline</td>\n",
       "      <td>12.1</td>\n",
       "      <td>8.7</td>\n",
       "      <td>10.6</td>\n",
       "      <td>27</td>\n",
       "      <td>244</td>\n",
       "      <td>0</td>\n",
       "      <td>1</td>\n",
       "      <td>0</td>\n",
       "      <td>0</td>\n",
       "      <td>1</td>\n",
       "      <td>0</td>\n",
       "      <td>0</td>\n",
       "    </tr>\n",
       "    <tr>\n",
       "      <th>...</th>\n",
       "      <td>...</td>\n",
       "      <td>...</td>\n",
       "      <td>...</td>\n",
       "      <td>...</td>\n",
       "      <td>...</td>\n",
       "      <td>...</td>\n",
       "      <td>...</td>\n",
       "      <td>...</td>\n",
       "      <td>...</td>\n",
       "      <td>...</td>\n",
       "      <td>...</td>\n",
       "      <td>...</td>\n",
       "      <td>...</td>\n",
       "      <td>...</td>\n",
       "      <td>...</td>\n",
       "      <td>...</td>\n",
       "      <td>...</td>\n",
       "      <td>...</td>\n",
       "      <td>...</td>\n",
       "    </tr>\n",
       "    <tr>\n",
       "      <th>7380</th>\n",
       "      <td>VOLVO</td>\n",
       "      <td>XC40 T5 AWD</td>\n",
       "      <td>SUV - SMALL</td>\n",
       "      <td>2.0</td>\n",
       "      <td>4</td>\n",
       "      <td>Automatic of Selective type</td>\n",
       "      <td>Premium gasoline</td>\n",
       "      <td>10.7</td>\n",
       "      <td>7.7</td>\n",
       "      <td>9.4</td>\n",
       "      <td>30</td>\n",
       "      <td>219</td>\n",
       "      <td>0</td>\n",
       "      <td>1</td>\n",
       "      <td>0</td>\n",
       "      <td>0</td>\n",
       "      <td>1</td>\n",
       "      <td>0</td>\n",
       "      <td>0</td>\n",
       "    </tr>\n",
       "    <tr>\n",
       "      <th>7381</th>\n",
       "      <td>VOLVO</td>\n",
       "      <td>XC60 T5 AWD</td>\n",
       "      <td>SUV - SMALL</td>\n",
       "      <td>2.0</td>\n",
       "      <td>4</td>\n",
       "      <td>Automatic of Selective type</td>\n",
       "      <td>Premium gasoline</td>\n",
       "      <td>11.2</td>\n",
       "      <td>8.3</td>\n",
       "      <td>9.9</td>\n",
       "      <td>29</td>\n",
       "      <td>232</td>\n",
       "      <td>0</td>\n",
       "      <td>1</td>\n",
       "      <td>0</td>\n",
       "      <td>0</td>\n",
       "      <td>1</td>\n",
       "      <td>0</td>\n",
       "      <td>0</td>\n",
       "    </tr>\n",
       "    <tr>\n",
       "      <th>7382</th>\n",
       "      <td>VOLVO</td>\n",
       "      <td>XC60 T6 AWD</td>\n",
       "      <td>SUV - SMALL</td>\n",
       "      <td>2.0</td>\n",
       "      <td>4</td>\n",
       "      <td>Automatic of Selective type</td>\n",
       "      <td>Premium gasoline</td>\n",
       "      <td>11.7</td>\n",
       "      <td>8.6</td>\n",
       "      <td>10.3</td>\n",
       "      <td>27</td>\n",
       "      <td>240</td>\n",
       "      <td>0</td>\n",
       "      <td>1</td>\n",
       "      <td>0</td>\n",
       "      <td>0</td>\n",
       "      <td>1</td>\n",
       "      <td>0</td>\n",
       "      <td>0</td>\n",
       "    </tr>\n",
       "    <tr>\n",
       "      <th>7383</th>\n",
       "      <td>VOLVO</td>\n",
       "      <td>XC90 T5 AWD</td>\n",
       "      <td>SUV - STANDARD</td>\n",
       "      <td>2.0</td>\n",
       "      <td>4</td>\n",
       "      <td>Automatic of Selective type</td>\n",
       "      <td>Premium gasoline</td>\n",
       "      <td>11.2</td>\n",
       "      <td>8.3</td>\n",
       "      <td>9.9</td>\n",
       "      <td>29</td>\n",
       "      <td>232</td>\n",
       "      <td>0</td>\n",
       "      <td>1</td>\n",
       "      <td>0</td>\n",
       "      <td>0</td>\n",
       "      <td>1</td>\n",
       "      <td>0</td>\n",
       "      <td>0</td>\n",
       "    </tr>\n",
       "    <tr>\n",
       "      <th>7384</th>\n",
       "      <td>VOLVO</td>\n",
       "      <td>XC90 T6 AWD</td>\n",
       "      <td>SUV - STANDARD</td>\n",
       "      <td>2.0</td>\n",
       "      <td>4</td>\n",
       "      <td>Automatic of Selective type</td>\n",
       "      <td>Premium gasoline</td>\n",
       "      <td>12.2</td>\n",
       "      <td>8.7</td>\n",
       "      <td>10.7</td>\n",
       "      <td>26</td>\n",
       "      <td>248</td>\n",
       "      <td>0</td>\n",
       "      <td>1</td>\n",
       "      <td>0</td>\n",
       "      <td>0</td>\n",
       "      <td>1</td>\n",
       "      <td>0</td>\n",
       "      <td>0</td>\n",
       "    </tr>\n",
       "  </tbody>\n",
       "</table>\n",
       "<p>7384 rows × 19 columns</p>\n",
       "</div>"
      ],
      "text/plain": [
       "       Make        Model   Vehicle Class  Engine Size(L)  Cylinders  \\\n",
       "0     ACURA          ILX         COMPACT             2.0          4   \n",
       "1     ACURA          ILX         COMPACT             2.4          4   \n",
       "2     ACURA   ILX HYBRID         COMPACT             1.5          4   \n",
       "3     ACURA      MDX 4WD     SUV - SMALL             3.5          6   \n",
       "4     ACURA      RDX AWD     SUV - SMALL             3.5          6   \n",
       "...     ...          ...             ...             ...        ...   \n",
       "7380  VOLVO  XC40 T5 AWD     SUV - SMALL             2.0          4   \n",
       "7381  VOLVO  XC60 T5 AWD     SUV - SMALL             2.0          4   \n",
       "7382  VOLVO  XC60 T6 AWD     SUV - SMALL             2.0          4   \n",
       "7383  VOLVO  XC90 T5 AWD  SUV - STANDARD             2.0          4   \n",
       "7384  VOLVO  XC90 T6 AWD  SUV - STANDARD             2.0          4   \n",
       "\n",
       "                     Transmission         Fuel Type  \\\n",
       "0     Automatic of Selective type  Premium gasoline   \n",
       "1                          Manual  Premium gasoline   \n",
       "2                             CVT  Premium gasoline   \n",
       "3     Automatic of Selective type  Premium gasoline   \n",
       "4     Automatic of Selective type  Premium gasoline   \n",
       "...                           ...               ...   \n",
       "7380  Automatic of Selective type  Premium gasoline   \n",
       "7381  Automatic of Selective type  Premium gasoline   \n",
       "7382  Automatic of Selective type  Premium gasoline   \n",
       "7383  Automatic of Selective type  Premium gasoline   \n",
       "7384  Automatic of Selective type  Premium gasoline   \n",
       "\n",
       "      Fuel Consumption City (L/100 km)  Fuel Consumption Hwy (L/100 km)  \\\n",
       "0                                  9.9                              6.7   \n",
       "1                                 11.2                              7.7   \n",
       "2                                  6.0                              5.8   \n",
       "3                                 12.7                              9.1   \n",
       "4                                 12.1                              8.7   \n",
       "...                                ...                              ...   \n",
       "7380                              10.7                              7.7   \n",
       "7381                              11.2                              8.3   \n",
       "7382                              11.7                              8.6   \n",
       "7383                              11.2                              8.3   \n",
       "7384                              12.2                              8.7   \n",
       "\n",
       "      Fuel Consumption Comb (L/100 km)  Fuel Consumption Comb (mpg)  \\\n",
       "0                                  8.5                           33   \n",
       "1                                  9.6                           29   \n",
       "2                                  5.9                           48   \n",
       "3                                 11.1                           25   \n",
       "4                                 10.6                           27   \n",
       "...                                ...                          ...   \n",
       "7380                               9.4                           30   \n",
       "7381                               9.9                           29   \n",
       "7382                              10.3                           27   \n",
       "7383                               9.9                           29   \n",
       "7384                              10.7                           26   \n",
       "\n",
       "      CO2 Emissions(g/km)  Fuel_Ethanol  Fuel_Premium gasoline  \\\n",
       "0                     196             0                      1   \n",
       "1                     221             0                      1   \n",
       "2                     136             0                      1   \n",
       "3                     255             0                      1   \n",
       "4                     244             0                      1   \n",
       "...                   ...           ...                    ...   \n",
       "7380                  219             0                      1   \n",
       "7381                  232             0                      1   \n",
       "7382                  240             0                      1   \n",
       "7383                  232             0                      1   \n",
       "7384                  248             0                      1   \n",
       "\n",
       "      Fuel_Regular gasoline  Automatic  Automatic of Selective type  CVT  \\\n",
       "0                         0          0                            1    0   \n",
       "1                         0          0                            0    0   \n",
       "2                         0          0                            0    1   \n",
       "3                         0          0                            1    0   \n",
       "4                         0          0                            1    0   \n",
       "...                     ...        ...                          ...  ...   \n",
       "7380                      0          0                            1    0   \n",
       "7381                      0          0                            1    0   \n",
       "7382                      0          0                            1    0   \n",
       "7383                      0          0                            1    0   \n",
       "7384                      0          0                            1    0   \n",
       "\n",
       "      Manual  \n",
       "0          0  \n",
       "1          1  \n",
       "2          0  \n",
       "3          0  \n",
       "4          0  \n",
       "...      ...  \n",
       "7380       0  \n",
       "7381       0  \n",
       "7382       0  \n",
       "7383       0  \n",
       "7384       0  \n",
       "\n",
       "[7384 rows x 19 columns]"
      ]
     },
     "execution_count": 41,
     "metadata": {},
     "output_type": "execute_result"
    }
   ],
   "source": [
    "ds"
   ]
  },
  {
   "cell_type": "code",
   "execution_count": 42,
   "id": "89c9b267",
   "metadata": {},
   "outputs": [],
   "source": [
    "ds.drop(['Fuel Type'], inplace=True, axis=1)\n",
    "ds.drop(['Transmission'], inplace=True, axis=1)"
   ]
  },
  {
   "cell_type": "code",
   "execution_count": 43,
   "id": "63ba5075",
   "metadata": {},
   "outputs": [],
   "source": [
    "df_freq = ds['Make'].value_counts().to_dict()\n",
    "mod_freq = ds['Model'].value_counts().to_dict()\n",
    "veh_freq = ds['Vehicle Class'].value_counts().to_dict()"
   ]
  },
  {
   "cell_type": "code",
   "execution_count": 44,
   "id": "a9d360e9",
   "metadata": {},
   "outputs": [],
   "source": [
    "ds['Make'] = ds['Make'].map(df_freq)\n",
    "ds['Model'] = ds['Model'].map(mod_freq)\n",
    "ds['Vehicle Class'] = ds['Vehicle Class'].map(veh_freq)"
   ]
  },
  {
   "cell_type": "code",
   "execution_count": 45,
   "id": "0e0ad355",
   "metadata": {},
   "outputs": [
    {
     "data": {
      "text/html": [
       "<div>\n",
       "<style scoped>\n",
       "    .dataframe tbody tr th:only-of-type {\n",
       "        vertical-align: middle;\n",
       "    }\n",
       "\n",
       "    .dataframe tbody tr th {\n",
       "        vertical-align: top;\n",
       "    }\n",
       "\n",
       "    .dataframe thead th {\n",
       "        text-align: right;\n",
       "    }\n",
       "</style>\n",
       "<table border=\"1\" class=\"dataframe\">\n",
       "  <thead>\n",
       "    <tr style=\"text-align: right;\">\n",
       "      <th></th>\n",
       "      <th>Make</th>\n",
       "      <th>Model</th>\n",
       "      <th>Vehicle Class</th>\n",
       "      <th>Engine Size(L)</th>\n",
       "      <th>Cylinders</th>\n",
       "      <th>Fuel Consumption City (L/100 km)</th>\n",
       "      <th>Fuel Consumption Hwy (L/100 km)</th>\n",
       "      <th>Fuel Consumption Comb (L/100 km)</th>\n",
       "      <th>Fuel Consumption Comb (mpg)</th>\n",
       "      <th>CO2 Emissions(g/km)</th>\n",
       "      <th>Fuel_Ethanol</th>\n",
       "      <th>Fuel_Premium gasoline</th>\n",
       "      <th>Fuel_Regular gasoline</th>\n",
       "      <th>Automatic</th>\n",
       "      <th>Automatic of Selective type</th>\n",
       "      <th>CVT</th>\n",
       "      <th>Manual</th>\n",
       "    </tr>\n",
       "  </thead>\n",
       "  <tbody>\n",
       "    <tr>\n",
       "      <th>0</th>\n",
       "      <td>72</td>\n",
       "      <td>9</td>\n",
       "      <td>1022</td>\n",
       "      <td>2.0</td>\n",
       "      <td>4</td>\n",
       "      <td>9.9</td>\n",
       "      <td>6.7</td>\n",
       "      <td>8.5</td>\n",
       "      <td>33</td>\n",
       "      <td>196</td>\n",
       "      <td>0</td>\n",
       "      <td>1</td>\n",
       "      <td>0</td>\n",
       "      <td>0</td>\n",
       "      <td>1</td>\n",
       "      <td>0</td>\n",
       "      <td>0</td>\n",
       "    </tr>\n",
       "    <tr>\n",
       "      <th>1</th>\n",
       "      <td>72</td>\n",
       "      <td>9</td>\n",
       "      <td>1022</td>\n",
       "      <td>2.4</td>\n",
       "      <td>4</td>\n",
       "      <td>11.2</td>\n",
       "      <td>7.7</td>\n",
       "      <td>9.6</td>\n",
       "      <td>29</td>\n",
       "      <td>221</td>\n",
       "      <td>0</td>\n",
       "      <td>1</td>\n",
       "      <td>0</td>\n",
       "      <td>0</td>\n",
       "      <td>0</td>\n",
       "      <td>0</td>\n",
       "      <td>1</td>\n",
       "    </tr>\n",
       "    <tr>\n",
       "      <th>2</th>\n",
       "      <td>72</td>\n",
       "      <td>2</td>\n",
       "      <td>1022</td>\n",
       "      <td>1.5</td>\n",
       "      <td>4</td>\n",
       "      <td>6.0</td>\n",
       "      <td>5.8</td>\n",
       "      <td>5.9</td>\n",
       "      <td>48</td>\n",
       "      <td>136</td>\n",
       "      <td>0</td>\n",
       "      <td>1</td>\n",
       "      <td>0</td>\n",
       "      <td>0</td>\n",
       "      <td>0</td>\n",
       "      <td>1</td>\n",
       "      <td>0</td>\n",
       "    </tr>\n",
       "    <tr>\n",
       "      <th>3</th>\n",
       "      <td>72</td>\n",
       "      <td>1</td>\n",
       "      <td>1217</td>\n",
       "      <td>3.5</td>\n",
       "      <td>6</td>\n",
       "      <td>12.7</td>\n",
       "      <td>9.1</td>\n",
       "      <td>11.1</td>\n",
       "      <td>25</td>\n",
       "      <td>255</td>\n",
       "      <td>0</td>\n",
       "      <td>1</td>\n",
       "      <td>0</td>\n",
       "      <td>0</td>\n",
       "      <td>1</td>\n",
       "      <td>0</td>\n",
       "      <td>0</td>\n",
       "    </tr>\n",
       "    <tr>\n",
       "      <th>4</th>\n",
       "      <td>72</td>\n",
       "      <td>7</td>\n",
       "      <td>1217</td>\n",
       "      <td>3.5</td>\n",
       "      <td>6</td>\n",
       "      <td>12.1</td>\n",
       "      <td>8.7</td>\n",
       "      <td>10.6</td>\n",
       "      <td>27</td>\n",
       "      <td>244</td>\n",
       "      <td>0</td>\n",
       "      <td>1</td>\n",
       "      <td>0</td>\n",
       "      <td>0</td>\n",
       "      <td>1</td>\n",
       "      <td>0</td>\n",
       "      <td>0</td>\n",
       "    </tr>\n",
       "  </tbody>\n",
       "</table>\n",
       "</div>"
      ],
      "text/plain": [
       "   Make  Model  Vehicle Class  Engine Size(L)  Cylinders  \\\n",
       "0    72      9           1022             2.0          4   \n",
       "1    72      9           1022             2.4          4   \n",
       "2    72      2           1022             1.5          4   \n",
       "3    72      1           1217             3.5          6   \n",
       "4    72      7           1217             3.5          6   \n",
       "\n",
       "   Fuel Consumption City (L/100 km)  Fuel Consumption Hwy (L/100 km)  \\\n",
       "0                               9.9                              6.7   \n",
       "1                              11.2                              7.7   \n",
       "2                               6.0                              5.8   \n",
       "3                              12.7                              9.1   \n",
       "4                              12.1                              8.7   \n",
       "\n",
       "   Fuel Consumption Comb (L/100 km)  Fuel Consumption Comb (mpg)  \\\n",
       "0                               8.5                           33   \n",
       "1                               9.6                           29   \n",
       "2                               5.9                           48   \n",
       "3                              11.1                           25   \n",
       "4                              10.6                           27   \n",
       "\n",
       "   CO2 Emissions(g/km)  Fuel_Ethanol  Fuel_Premium gasoline  \\\n",
       "0                  196             0                      1   \n",
       "1                  221             0                      1   \n",
       "2                  136             0                      1   \n",
       "3                  255             0                      1   \n",
       "4                  244             0                      1   \n",
       "\n",
       "   Fuel_Regular gasoline  Automatic  Automatic of Selective type  CVT  Manual  \n",
       "0                      0          0                            1    0       0  \n",
       "1                      0          0                            0    0       1  \n",
       "2                      0          0                            0    1       0  \n",
       "3                      0          0                            1    0       0  \n",
       "4                      0          0                            1    0       0  "
      ]
     },
     "execution_count": 45,
     "metadata": {},
     "output_type": "execute_result"
    }
   ],
   "source": [
    "ds.head()"
   ]
  },
  {
   "cell_type": "code",
   "execution_count": 46,
   "id": "fd79de34",
   "metadata": {},
   "outputs": [],
   "source": [
    "X = ds.drop('CO2 Emissions(g/km)', axis=1)\n",
    "y = ds['CO2 Emissions(g/km)']"
   ]
  },
  {
   "cell_type": "code",
   "execution_count": 47,
   "id": "215cea79",
   "metadata": {},
   "outputs": [
    {
     "data": {
      "text/html": [
       "<div>\n",
       "<style scoped>\n",
       "    .dataframe tbody tr th:only-of-type {\n",
       "        vertical-align: middle;\n",
       "    }\n",
       "\n",
       "    .dataframe tbody tr th {\n",
       "        vertical-align: top;\n",
       "    }\n",
       "\n",
       "    .dataframe thead th {\n",
       "        text-align: right;\n",
       "    }\n",
       "</style>\n",
       "<table border=\"1\" class=\"dataframe\">\n",
       "  <thead>\n",
       "    <tr style=\"text-align: right;\">\n",
       "      <th></th>\n",
       "      <th>Make</th>\n",
       "      <th>Model</th>\n",
       "      <th>Vehicle Class</th>\n",
       "      <th>Engine Size(L)</th>\n",
       "      <th>Cylinders</th>\n",
       "      <th>Fuel Consumption City (L/100 km)</th>\n",
       "      <th>Fuel Consumption Hwy (L/100 km)</th>\n",
       "      <th>Fuel Consumption Comb (L/100 km)</th>\n",
       "      <th>Fuel Consumption Comb (mpg)</th>\n",
       "      <th>Fuel_Ethanol</th>\n",
       "      <th>Fuel_Premium gasoline</th>\n",
       "      <th>Fuel_Regular gasoline</th>\n",
       "      <th>Automatic</th>\n",
       "      <th>Automatic of Selective type</th>\n",
       "      <th>CVT</th>\n",
       "      <th>Manual</th>\n",
       "    </tr>\n",
       "  </thead>\n",
       "  <tbody>\n",
       "    <tr>\n",
       "      <th>0</th>\n",
       "      <td>72</td>\n",
       "      <td>9</td>\n",
       "      <td>1022</td>\n",
       "      <td>2.0</td>\n",
       "      <td>4</td>\n",
       "      <td>9.9</td>\n",
       "      <td>6.7</td>\n",
       "      <td>8.5</td>\n",
       "      <td>33</td>\n",
       "      <td>0</td>\n",
       "      <td>1</td>\n",
       "      <td>0</td>\n",
       "      <td>0</td>\n",
       "      <td>1</td>\n",
       "      <td>0</td>\n",
       "      <td>0</td>\n",
       "    </tr>\n",
       "    <tr>\n",
       "      <th>1</th>\n",
       "      <td>72</td>\n",
       "      <td>9</td>\n",
       "      <td>1022</td>\n",
       "      <td>2.4</td>\n",
       "      <td>4</td>\n",
       "      <td>11.2</td>\n",
       "      <td>7.7</td>\n",
       "      <td>9.6</td>\n",
       "      <td>29</td>\n",
       "      <td>0</td>\n",
       "      <td>1</td>\n",
       "      <td>0</td>\n",
       "      <td>0</td>\n",
       "      <td>0</td>\n",
       "      <td>0</td>\n",
       "      <td>1</td>\n",
       "    </tr>\n",
       "    <tr>\n",
       "      <th>2</th>\n",
       "      <td>72</td>\n",
       "      <td>2</td>\n",
       "      <td>1022</td>\n",
       "      <td>1.5</td>\n",
       "      <td>4</td>\n",
       "      <td>6.0</td>\n",
       "      <td>5.8</td>\n",
       "      <td>5.9</td>\n",
       "      <td>48</td>\n",
       "      <td>0</td>\n",
       "      <td>1</td>\n",
       "      <td>0</td>\n",
       "      <td>0</td>\n",
       "      <td>0</td>\n",
       "      <td>1</td>\n",
       "      <td>0</td>\n",
       "    </tr>\n",
       "    <tr>\n",
       "      <th>3</th>\n",
       "      <td>72</td>\n",
       "      <td>1</td>\n",
       "      <td>1217</td>\n",
       "      <td>3.5</td>\n",
       "      <td>6</td>\n",
       "      <td>12.7</td>\n",
       "      <td>9.1</td>\n",
       "      <td>11.1</td>\n",
       "      <td>25</td>\n",
       "      <td>0</td>\n",
       "      <td>1</td>\n",
       "      <td>0</td>\n",
       "      <td>0</td>\n",
       "      <td>1</td>\n",
       "      <td>0</td>\n",
       "      <td>0</td>\n",
       "    </tr>\n",
       "    <tr>\n",
       "      <th>4</th>\n",
       "      <td>72</td>\n",
       "      <td>7</td>\n",
       "      <td>1217</td>\n",
       "      <td>3.5</td>\n",
       "      <td>6</td>\n",
       "      <td>12.1</td>\n",
       "      <td>8.7</td>\n",
       "      <td>10.6</td>\n",
       "      <td>27</td>\n",
       "      <td>0</td>\n",
       "      <td>1</td>\n",
       "      <td>0</td>\n",
       "      <td>0</td>\n",
       "      <td>1</td>\n",
       "      <td>0</td>\n",
       "      <td>0</td>\n",
       "    </tr>\n",
       "  </tbody>\n",
       "</table>\n",
       "</div>"
      ],
      "text/plain": [
       "   Make  Model  Vehicle Class  Engine Size(L)  Cylinders  \\\n",
       "0    72      9           1022             2.0          4   \n",
       "1    72      9           1022             2.4          4   \n",
       "2    72      2           1022             1.5          4   \n",
       "3    72      1           1217             3.5          6   \n",
       "4    72      7           1217             3.5          6   \n",
       "\n",
       "   Fuel Consumption City (L/100 km)  Fuel Consumption Hwy (L/100 km)  \\\n",
       "0                               9.9                              6.7   \n",
       "1                              11.2                              7.7   \n",
       "2                               6.0                              5.8   \n",
       "3                              12.7                              9.1   \n",
       "4                              12.1                              8.7   \n",
       "\n",
       "   Fuel Consumption Comb (L/100 km)  Fuel Consumption Comb (mpg)  \\\n",
       "0                               8.5                           33   \n",
       "1                               9.6                           29   \n",
       "2                               5.9                           48   \n",
       "3                              11.1                           25   \n",
       "4                              10.6                           27   \n",
       "\n",
       "   Fuel_Ethanol  Fuel_Premium gasoline  Fuel_Regular gasoline  Automatic  \\\n",
       "0             0                      1                      0          0   \n",
       "1             0                      1                      0          0   \n",
       "2             0                      1                      0          0   \n",
       "3             0                      1                      0          0   \n",
       "4             0                      1                      0          0   \n",
       "\n",
       "   Automatic of Selective type  CVT  Manual  \n",
       "0                            1    0       0  \n",
       "1                            0    0       1  \n",
       "2                            0    1       0  \n",
       "3                            1    0       0  \n",
       "4                            1    0       0  "
      ]
     },
     "execution_count": 47,
     "metadata": {},
     "output_type": "execute_result"
    }
   ],
   "source": [
    "X.head()"
   ]
  },
  {
   "cell_type": "code",
   "execution_count": 48,
   "id": "898556be",
   "metadata": {},
   "outputs": [
    {
     "data": {
      "text/plain": [
       "0    196\n",
       "1    221\n",
       "2    136\n",
       "3    255\n",
       "4    244\n",
       "Name: CO2 Emissions(g/km), dtype: int64"
      ]
     },
     "execution_count": 48,
     "metadata": {},
     "output_type": "execute_result"
    }
   ],
   "source": [
    "y.head()"
   ]
  },
  {
   "cell_type": "code",
   "execution_count": 49,
   "id": "e7f6507e",
   "metadata": {},
   "outputs": [
    {
     "data": {
      "text/plain": [
       "(7384, 17)"
      ]
     },
     "execution_count": 49,
     "metadata": {},
     "output_type": "execute_result"
    }
   ],
   "source": [
    "ds.shape"
   ]
  },
  {
   "cell_type": "code",
   "execution_count": 50,
   "id": "a9fbc18a",
   "metadata": {},
   "outputs": [],
   "source": [
    "from sklearn.feature_selection import SelectKBest\n",
    "from sklearn.feature_selection import chi2"
   ]
  },
  {
   "cell_type": "code",
   "execution_count": 51,
   "id": "0bc82c83",
   "metadata": {},
   "outputs": [],
   "source": [
    "ranked_feature = SelectKBest(score_func = chi2, k='all')\n",
    "ordered_feature = ranked_feature.fit(X, y)\n"
   ]
  },
  {
   "cell_type": "code",
   "execution_count": 52,
   "id": "369da2c3",
   "metadata": {},
   "outputs": [],
   "source": [
    "top_feat = pd.DataFrame(ordered_feature.scores_ , columns=['score'])\n",
    "top_feat['variables'] = X.columns"
   ]
  },
  {
   "cell_type": "code",
   "execution_count": 53,
   "id": "619538af",
   "metadata": {},
   "outputs": [
    {
     "data": {
      "text/html": [
       "<div>\n",
       "<style scoped>\n",
       "    .dataframe tbody tr th:only-of-type {\n",
       "        vertical-align: middle;\n",
       "    }\n",
       "\n",
       "    .dataframe tbody tr th {\n",
       "        vertical-align: top;\n",
       "    }\n",
       "\n",
       "    .dataframe thead th {\n",
       "        text-align: right;\n",
       "    }\n",
       "</style>\n",
       "<table border=\"1\" class=\"dataframe\">\n",
       "  <thead>\n",
       "    <tr style=\"text-align: right;\">\n",
       "      <th></th>\n",
       "      <th>score</th>\n",
       "      <th>variables</th>\n",
       "    </tr>\n",
       "  </thead>\n",
       "  <tbody>\n",
       "    <tr>\n",
       "      <th>2</th>\n",
       "      <td>173723.188600</td>\n",
       "      <td>Vehicle Class</td>\n",
       "    </tr>\n",
       "    <tr>\n",
       "      <th>0</th>\n",
       "      <td>95021.040629</td>\n",
       "      <td>Make</td>\n",
       "    </tr>\n",
       "    <tr>\n",
       "      <th>8</th>\n",
       "      <td>13236.852695</td>\n",
       "      <td>Fuel Consumption Comb (mpg)</td>\n",
       "    </tr>\n",
       "    <tr>\n",
       "      <th>5</th>\n",
       "      <td>6232.307799</td>\n",
       "      <td>Fuel Consumption City (L/100 km)</td>\n",
       "    </tr>\n",
       "    <tr>\n",
       "      <th>7</th>\n",
       "      <td>4862.577319</td>\n",
       "      <td>Fuel Consumption Comb (L/100 km)</td>\n",
       "    </tr>\n",
       "    <tr>\n",
       "      <th>4</th>\n",
       "      <td>3412.144543</td>\n",
       "      <td>Cylinders</td>\n",
       "    </tr>\n",
       "    <tr>\n",
       "      <th>3</th>\n",
       "      <td>3394.028026</td>\n",
       "      <td>Engine Size(L)</td>\n",
       "    </tr>\n",
       "    <tr>\n",
       "      <th>6</th>\n",
       "      <td>3293.816329</td>\n",
       "      <td>Fuel Consumption Hwy (L/100 km)</td>\n",
       "    </tr>\n",
       "    <tr>\n",
       "      <th>1</th>\n",
       "      <td>2612.972867</td>\n",
       "      <td>Model</td>\n",
       "    </tr>\n",
       "    <tr>\n",
       "      <th>14</th>\n",
       "      <td>1938.744672</td>\n",
       "      <td>CVT</td>\n",
       "    </tr>\n",
       "    <tr>\n",
       "      <th>12</th>\n",
       "      <td>1022.032185</td>\n",
       "      <td>Automatic</td>\n",
       "    </tr>\n",
       "    <tr>\n",
       "      <th>9</th>\n",
       "      <td>825.862516</td>\n",
       "      <td>Fuel_Ethanol</td>\n",
       "    </tr>\n",
       "    <tr>\n",
       "      <th>15</th>\n",
       "      <td>774.942190</td>\n",
       "      <td>Manual</td>\n",
       "    </tr>\n",
       "    <tr>\n",
       "      <th>10</th>\n",
       "      <td>763.320532</td>\n",
       "      <td>Fuel_Premium gasoline</td>\n",
       "    </tr>\n",
       "    <tr>\n",
       "      <th>11</th>\n",
       "      <td>677.576319</td>\n",
       "      <td>Fuel_Regular gasoline</td>\n",
       "    </tr>\n",
       "    <tr>\n",
       "      <th>13</th>\n",
       "      <td>497.189839</td>\n",
       "      <td>Automatic of Selective type</td>\n",
       "    </tr>\n",
       "  </tbody>\n",
       "</table>\n",
       "</div>"
      ],
      "text/plain": [
       "            score                         variables\n",
       "2   173723.188600                     Vehicle Class\n",
       "0    95021.040629                              Make\n",
       "8    13236.852695       Fuel Consumption Comb (mpg)\n",
       "5     6232.307799  Fuel Consumption City (L/100 km)\n",
       "7     4862.577319  Fuel Consumption Comb (L/100 km)\n",
       "4     3412.144543                         Cylinders\n",
       "3     3394.028026                    Engine Size(L)\n",
       "6     3293.816329   Fuel Consumption Hwy (L/100 km)\n",
       "1     2612.972867                             Model\n",
       "14    1938.744672                               CVT\n",
       "12    1022.032185                         Automatic\n",
       "9      825.862516                      Fuel_Ethanol\n",
       "15     774.942190                            Manual\n",
       "10     763.320532             Fuel_Premium gasoline\n",
       "11     677.576319             Fuel_Regular gasoline\n",
       "13     497.189839       Automatic of Selective type"
      ]
     },
     "execution_count": 53,
     "metadata": {},
     "output_type": "execute_result"
    }
   ],
   "source": [
    "top_feat.sort_values(by='score', ascending=False)"
   ]
  },
  {
   "cell_type": "code",
   "execution_count": 54,
   "id": "5cc8266d",
   "metadata": {},
   "outputs": [],
   "source": [
    "# splitting of trainnng testing set into X and y:\n",
    "\n",
    "from sklearn.model_selection import train_test_split\n",
    "\n",
    "X_train,X_test, y_train, y_test = train_test_split(X, y, test_size=0.2, random_state=42)"
   ]
  },
  {
   "cell_type": "code",
   "execution_count": 55,
   "id": "84ff4833",
   "metadata": {},
   "outputs": [
    {
     "name": "stdout",
     "output_type": "stream",
     "text": [
      "(5907, 16)\n",
      "(1477, 16)\n",
      "(5907,)\n",
      "(1477,)\n"
     ]
    }
   ],
   "source": [
    "print(X_train.shape)\n",
    "print(X_test.shape)\n",
    "print(y_train.shape)\n",
    "print(y_test.shape)"
   ]
  },
  {
   "cell_type": "code",
   "execution_count": 56,
   "id": "da2e23bb",
   "metadata": {},
   "outputs": [
    {
     "data": {
      "text/plain": [
       "5632    368\n",
       "1550    290\n",
       "1128    382\n",
       "6498    211\n",
       "3270    193\n",
       "Name: CO2 Emissions(g/km), dtype: int64"
      ]
     },
     "execution_count": 56,
     "metadata": {},
     "output_type": "execute_result"
    }
   ],
   "source": [
    "y_test.head()"
   ]
  },
  {
   "cell_type": "markdown",
   "id": "01851a9c",
   "metadata": {},
   "source": [
    "# FEATURE SCALING USING STANDARDIZATION"
   ]
  },
  {
   "cell_type": "code",
   "execution_count": 57,
   "id": "3fdb88e5",
   "metadata": {},
   "outputs": [],
   "source": [
    "# STANDARDIZATION\n",
    "from sklearn.preprocessing import StandardScaler"
   ]
  },
  {
   "cell_type": "code",
   "execution_count": 58,
   "id": "71d969e5",
   "metadata": {},
   "outputs": [],
   "source": [
    "scaler =StandardScaler()\n",
    "\n",
    "X_train = scaler.fit_transform(X_train)\n",
    "X_test = scaler.transform(X_test)"
   ]
  },
  {
   "cell_type": "code",
   "execution_count": 59,
   "id": "fe124db4",
   "metadata": {},
   "outputs": [
    {
     "data": {
      "text/plain": [
       "array([[-0.27521116, -0.68670295, -1.80962504, ..., -0.85157221,\n",
       "        -0.29299418, -0.44024503],\n",
       "       [-0.54676246, -0.68670295, -0.42577231, ...,  1.17429853,\n",
       "        -0.29299418, -0.44024503],\n",
       "       [ 1.2100082 , -0.87774305, -0.52091218, ...,  1.17429853,\n",
       "        -0.29299418, -0.44024503],\n",
       "       ...,\n",
       "       [ 0.11826113, -0.30462276, -0.14900176, ..., -0.85157221,\n",
       "         3.4130371 , -0.44024503],\n",
       "       [-0.27521116, -0.30462276,  1.24061702, ..., -0.85157221,\n",
       "         3.4130371 , -0.44024503],\n",
       "       [-1.17299301, -1.06878314, -0.71695798, ..., -0.85157221,\n",
       "        -0.29299418, -0.44024503]])"
      ]
     },
     "execution_count": 59,
     "metadata": {},
     "output_type": "execute_result"
    }
   ],
   "source": [
    "X_train"
   ]
  },
  {
   "cell_type": "code",
   "execution_count": 60,
   "id": "86670159",
   "metadata": {},
   "outputs": [
    {
     "data": {
      "text/plain": [
       "250.58978873239437"
      ]
     },
     "execution_count": 60,
     "metadata": {},
     "output_type": "execute_result"
    }
   ],
   "source": [
    "data['CO2 Emissions(g/km)'].mean()"
   ]
  },
  {
   "cell_type": "markdown",
   "id": "76a899c6",
   "metadata": {},
   "source": [
    "# Application of Regression Model"
   ]
  },
  {
   "cell_type": "markdown",
   "id": "a9fef4a1",
   "metadata": {},
   "source": [
    "### 1. Linear Regression:"
   ]
  },
  {
   "cell_type": "code",
   "execution_count": 61,
   "id": "ad8c9c81",
   "metadata": {},
   "outputs": [
    {
     "data": {
      "text/plain": [
       "LinearRegression()"
      ]
     },
     "execution_count": 61,
     "metadata": {},
     "output_type": "execute_result"
    }
   ],
   "source": [
    "model = LinearRegression()\n",
    "model.fit(X_train, y_train)"
   ]
  },
  {
   "cell_type": "code",
   "execution_count": 62,
   "id": "1fd6e293",
   "metadata": {},
   "outputs": [
    {
     "data": {
      "text/plain": [
       "250.98357880480785"
      ]
     },
     "execution_count": 62,
     "metadata": {},
     "output_type": "execute_result"
    }
   ],
   "source": [
    "model.intercept_"
   ]
  },
  {
   "cell_type": "code",
   "execution_count": 63,
   "id": "cbd00526",
   "metadata": {},
   "outputs": [
    {
     "data": {
      "text/plain": [
       "array([  0.09846243,  -0.09126632,  -0.03196586,   0.25410999,\n",
       "         2.17469937,  24.28719842,  13.07132844,  20.53745833,\n",
       "        -6.35439345, -30.19620392, -15.35456651, -15.09009955,\n",
       "        -0.35425518,  -0.32284677,  -0.17696755,  -0.3645601 ])"
      ]
     },
     "execution_count": 63,
     "metadata": {},
     "output_type": "execute_result"
    }
   ],
   "source": [
    "model.coef_"
   ]
  },
  {
   "cell_type": "code",
   "execution_count": 64,
   "id": "5d319226",
   "metadata": {},
   "outputs": [
    {
     "data": {
      "text/plain": [
       "array([359.06209907, 292.97346311, 377.59960241, ..., 341.77783102,\n",
       "       193.05390931, 177.97061893])"
      ]
     },
     "execution_count": 64,
     "metadata": {},
     "output_type": "execute_result"
    }
   ],
   "source": [
    "y_predict = model.predict(X_test)\n",
    "y_predict"
   ]
  },
  {
   "cell_type": "code",
   "execution_count": 65,
   "id": "e4a09330",
   "metadata": {},
   "outputs": [
    {
     "data": {
      "text/plain": [
       "4.918260935039379"
      ]
     },
     "execution_count": 65,
     "metadata": {},
     "output_type": "execute_result"
    }
   ],
   "source": [
    "np.sqrt(mean_squared_error(y_test, y_predict))"
   ]
  },
  {
   "cell_type": "code",
   "execution_count": 66,
   "id": "318ad78a",
   "metadata": {},
   "outputs": [
    {
     "data": {
      "text/plain": [
       "0.993041824997087"
      ]
     },
     "execution_count": 66,
     "metadata": {},
     "output_type": "execute_result"
    }
   ],
   "source": [
    "r2_score(y_test, y_predict)"
   ]
  },
  {
   "cell_type": "code",
   "execution_count": 67,
   "id": "382d6039",
   "metadata": {},
   "outputs": [],
   "source": [
    "frames = [y_predict, y_test.values]\n",
    "result_predict = pd.DataFrame(data=frames)\n",
    "result_predict = result_predict.T"
   ]
  },
  {
   "cell_type": "code",
   "execution_count": 68,
   "id": "0e34b86a",
   "metadata": {},
   "outputs": [
    {
     "data": {
      "text/html": [
       "<div>\n",
       "<style scoped>\n",
       "    .dataframe tbody tr th:only-of-type {\n",
       "        vertical-align: middle;\n",
       "    }\n",
       "\n",
       "    .dataframe tbody tr th {\n",
       "        vertical-align: top;\n",
       "    }\n",
       "\n",
       "    .dataframe thead th {\n",
       "        text-align: right;\n",
       "    }\n",
       "</style>\n",
       "<table border=\"1\" class=\"dataframe\">\n",
       "  <thead>\n",
       "    <tr style=\"text-align: right;\">\n",
       "      <th></th>\n",
       "      <th>predicted_values</th>\n",
       "      <th>real_values</th>\n",
       "    </tr>\n",
       "  </thead>\n",
       "  <tbody>\n",
       "    <tr>\n",
       "      <th>0</th>\n",
       "      <td>359.06</td>\n",
       "      <td>368.0</td>\n",
       "    </tr>\n",
       "    <tr>\n",
       "      <th>1</th>\n",
       "      <td>292.97</td>\n",
       "      <td>290.0</td>\n",
       "    </tr>\n",
       "    <tr>\n",
       "      <th>2</th>\n",
       "      <td>377.60</td>\n",
       "      <td>382.0</td>\n",
       "    </tr>\n",
       "    <tr>\n",
       "      <th>3</th>\n",
       "      <td>210.80</td>\n",
       "      <td>211.0</td>\n",
       "    </tr>\n",
       "    <tr>\n",
       "      <th>4</th>\n",
       "      <td>192.94</td>\n",
       "      <td>193.0</td>\n",
       "    </tr>\n",
       "    <tr>\n",
       "      <th>...</th>\n",
       "      <td>...</td>\n",
       "      <td>...</td>\n",
       "    </tr>\n",
       "    <tr>\n",
       "      <th>1472</th>\n",
       "      <td>233.49</td>\n",
       "      <td>235.0</td>\n",
       "    </tr>\n",
       "    <tr>\n",
       "      <th>1473</th>\n",
       "      <td>262.28</td>\n",
       "      <td>263.0</td>\n",
       "    </tr>\n",
       "    <tr>\n",
       "      <th>1474</th>\n",
       "      <td>341.78</td>\n",
       "      <td>346.0</td>\n",
       "    </tr>\n",
       "    <tr>\n",
       "      <th>1475</th>\n",
       "      <td>193.05</td>\n",
       "      <td>193.0</td>\n",
       "    </tr>\n",
       "    <tr>\n",
       "      <th>1476</th>\n",
       "      <td>177.97</td>\n",
       "      <td>177.0</td>\n",
       "    </tr>\n",
       "  </tbody>\n",
       "</table>\n",
       "<p>1477 rows × 2 columns</p>\n",
       "</div>"
      ],
      "text/plain": [
       "      predicted_values  real_values\n",
       "0               359.06        368.0\n",
       "1               292.97        290.0\n",
       "2               377.60        382.0\n",
       "3               210.80        211.0\n",
       "4               192.94        193.0\n",
       "...                ...          ...\n",
       "1472            233.49        235.0\n",
       "1473            262.28        263.0\n",
       "1474            341.78        346.0\n",
       "1475            193.05        193.0\n",
       "1476            177.97        177.0\n",
       "\n",
       "[1477 rows x 2 columns]"
      ]
     },
     "execution_count": 68,
     "metadata": {},
     "output_type": "execute_result"
    }
   ],
   "source": [
    "lin_predict = result_predict.rename(columns={0: 'predicted_values',1:'real_values'})\n",
    "lin_predict['predicted_values'] = lin_predict['predicted_values'].map(lambda x: round(x,2))\n",
    "\n",
    "lin_predict"
   ]
  },
  {
   "cell_type": "code",
   "execution_count": 69,
   "id": "238363c7",
   "metadata": {},
   "outputs": [
    {
     "name": "stdout",
     "output_type": "stream",
     "text": [
      "mean diff:  2.979058903182132\n"
     ]
    }
   ],
   "source": [
    "lin_predict['diff'] = abs(lin_predict['predicted_values'] - lin_predict['real_values'])\n",
    "\n",
    "print('mean diff: ', (abs(lin_predict['diff']).mean()))"
   ]
  },
  {
   "cell_type": "code",
   "execution_count": 70,
   "id": "1bf796ad",
   "metadata": {},
   "outputs": [
    {
     "data": {
      "text/html": [
       "<div>\n",
       "<style scoped>\n",
       "    .dataframe tbody tr th:only-of-type {\n",
       "        vertical-align: middle;\n",
       "    }\n",
       "\n",
       "    .dataframe tbody tr th {\n",
       "        vertical-align: top;\n",
       "    }\n",
       "\n",
       "    .dataframe thead th {\n",
       "        text-align: right;\n",
       "    }\n",
       "</style>\n",
       "<table border=\"1\" class=\"dataframe\">\n",
       "  <thead>\n",
       "    <tr style=\"text-align: right;\">\n",
       "      <th></th>\n",
       "      <th>predicted_values</th>\n",
       "      <th>real_values</th>\n",
       "      <th>diff</th>\n",
       "    </tr>\n",
       "  </thead>\n",
       "  <tbody>\n",
       "    <tr>\n",
       "      <th>0</th>\n",
       "      <td>359.06</td>\n",
       "      <td>368.0</td>\n",
       "      <td>8.94</td>\n",
       "    </tr>\n",
       "    <tr>\n",
       "      <th>1</th>\n",
       "      <td>292.97</td>\n",
       "      <td>290.0</td>\n",
       "      <td>2.97</td>\n",
       "    </tr>\n",
       "    <tr>\n",
       "      <th>2</th>\n",
       "      <td>377.60</td>\n",
       "      <td>382.0</td>\n",
       "      <td>4.40</td>\n",
       "    </tr>\n",
       "    <tr>\n",
       "      <th>3</th>\n",
       "      <td>210.80</td>\n",
       "      <td>211.0</td>\n",
       "      <td>0.20</td>\n",
       "    </tr>\n",
       "    <tr>\n",
       "      <th>4</th>\n",
       "      <td>192.94</td>\n",
       "      <td>193.0</td>\n",
       "      <td>0.06</td>\n",
       "    </tr>\n",
       "    <tr>\n",
       "      <th>5</th>\n",
       "      <td>249.45</td>\n",
       "      <td>244.0</td>\n",
       "      <td>5.45</td>\n",
       "    </tr>\n",
       "    <tr>\n",
       "      <th>6</th>\n",
       "      <td>213.25</td>\n",
       "      <td>210.0</td>\n",
       "      <td>3.25</td>\n",
       "    </tr>\n",
       "    <tr>\n",
       "      <th>7</th>\n",
       "      <td>174.25</td>\n",
       "      <td>174.0</td>\n",
       "      <td>0.25</td>\n",
       "    </tr>\n",
       "    <tr>\n",
       "      <th>8</th>\n",
       "      <td>266.72</td>\n",
       "      <td>268.0</td>\n",
       "      <td>1.28</td>\n",
       "    </tr>\n",
       "    <tr>\n",
       "      <th>9</th>\n",
       "      <td>303.68</td>\n",
       "      <td>305.0</td>\n",
       "      <td>1.32</td>\n",
       "    </tr>\n",
       "  </tbody>\n",
       "</table>\n",
       "</div>"
      ],
      "text/plain": [
       "   predicted_values  real_values  diff\n",
       "0            359.06        368.0  8.94\n",
       "1            292.97        290.0  2.97\n",
       "2            377.60        382.0  4.40\n",
       "3            210.80        211.0  0.20\n",
       "4            192.94        193.0  0.06\n",
       "5            249.45        244.0  5.45\n",
       "6            213.25        210.0  3.25\n",
       "7            174.25        174.0  0.25\n",
       "8            266.72        268.0  1.28\n",
       "9            303.68        305.0  1.32"
      ]
     },
     "execution_count": 70,
     "metadata": {},
     "output_type": "execute_result"
    }
   ],
   "source": [
    "lin_predict.head(10)"
   ]
  },
  {
   "cell_type": "code",
   "execution_count": 71,
   "id": "2f81cbe4",
   "metadata": {},
   "outputs": [
    {
     "data": {
      "text/plain": [
       "<seaborn.axisgrid.FacetGrid at 0x1733b9c48e0>"
      ]
     },
     "execution_count": 71,
     "metadata": {},
     "output_type": "execute_result"
    },
    {
     "data": {
      "image/png": "[encoded data removed]",
      "text/plain": [
       "<Figure size 360x360 with 1 Axes>"
      ]
     },
     "metadata": {
      "needs_background": "light"
     },
     "output_type": "display_data"
    }
   ],
   "source": [
    "sns.displot(y_predict-y_test)"
   ]
  },
  {
   "cell_type": "code",
   "execution_count": 72,
   "id": "68467280",
   "metadata": {},
   "outputs": [
    {
     "data": {
      "text/plain": [
       "Text(0, 0.5, 'y_pred')"
      ]
     },
     "execution_count": 72,
     "metadata": {},
     "output_type": "execute_result"
    },
    {
     "data": {
      "image/png": "[encoded data removed]",
      "text/plain": [
       "<Figure size 1080x720 with 1 Axes>"
      ]
     },
     "metadata": {
      "needs_background": "light"
     },
     "output_type": "display_data"
    }
   ],
   "source": [
    "plt.scatter( y_test,y_predict)\n",
    "plt.xlabel('y_test')\n",
    "plt.ylabel('y_pred')"
   ]
  },
  {
   "cell_type": "code",
   "execution_count": 73,
   "id": "c8935328",
   "metadata": {},
   "outputs": [
    {
     "data": {
      "image/png": "[encoded data removed]",
      "text/plain": [
       "<Figure size 360x360 with 1 Axes>"
      ]
     },
     "metadata": {
      "needs_background": "light"
     },
     "output_type": "display_data"
    },
    {
     "data": {
      "image/png": "[encoded data removed]",
      "text/plain": [
       "<Figure size 360x360 with 1 Axes>"
      ]
     },
     "metadata": {
      "needs_background": "light"
     },
     "output_type": "display_data"
    }
   ],
   "source": [
    "sns.displot(y_predict, bins=20,color='g')\n",
    "plt.show()\n",
    "sns.displot(data['CO2 Emissions(g/km)'], bins=20)\n",
    "plt.show()"
   ]
  },
  {
   "cell_type": "markdown",
   "id": "2aa7df43",
   "metadata": {},
   "source": [
    "# Decision Tree Regression:"
   ]
  },
  {
   "cell_type": "code",
   "execution_count": 74,
   "id": "8b2d89b0",
   "metadata": {},
   "outputs": [
    {
     "data": {
      "text/plain": [
       "DecisionTreeRegressor(random_state=42)"
      ]
     },
     "execution_count": 74,
     "metadata": {},
     "output_type": "execute_result"
    }
   ],
   "source": [
    "from sklearn.tree import DecisionTreeRegressor\n",
    "\n",
    "model = DecisionTreeRegressor(random_state = 42)\n",
    "\n",
    "model.fit(X_train, y_train)"
   ]
  },
  {
   "cell_type": "code",
   "execution_count": 75,
   "id": "13182b0d",
   "metadata": {},
   "outputs": [
    {
     "data": {
      "text/plain": [
       "array([357.        , 290.        , 382.        , ..., 342.66666667,\n",
       "       193.        , 177.        ])"
      ]
     },
     "execution_count": 75,
     "metadata": {},
     "output_type": "execute_result"
    }
   ],
   "source": [
    "dtr_pred = model.predict(X_test)\n",
    "dtr_pred"
   ]
  },
  {
   "cell_type": "code",
   "execution_count": 76,
   "id": "eee62e66",
   "metadata": {},
   "outputs": [
    {
     "data": {
      "text/plain": [
       "3.629475553464912"
      ]
     },
     "execution_count": 76,
     "metadata": {},
     "output_type": "execute_result"
    }
   ],
   "source": [
    "np.sqrt(mean_squared_error(y_test,dtr_pred ))"
   ]
  },
  {
   "cell_type": "code",
   "execution_count": 77,
   "id": "22892dd1",
   "metadata": {},
   "outputs": [
    {
     "data": {
      "text/plain": [
       "0.9962106914830545"
      ]
     },
     "execution_count": 77,
     "metadata": {},
     "output_type": "execute_result"
    }
   ],
   "source": [
    "r2_score(y_test, dtr_pred)"
   ]
  },
  {
   "cell_type": "code",
   "execution_count": 78,
   "id": "4108f2ee",
   "metadata": {},
   "outputs": [
    {
     "data": {
      "text/html": [
       "<div>\n",
       "<style scoped>\n",
       "    .dataframe tbody tr th:only-of-type {\n",
       "        vertical-align: middle;\n",
       "    }\n",
       "\n",
       "    .dataframe tbody tr th {\n",
       "        vertical-align: top;\n",
       "    }\n",
       "\n",
       "    .dataframe thead th {\n",
       "        text-align: right;\n",
       "    }\n",
       "</style>\n",
       "<table border=\"1\" class=\"dataframe\">\n",
       "  <thead>\n",
       "    <tr style=\"text-align: right;\">\n",
       "      <th></th>\n",
       "      <th>0</th>\n",
       "      <th>1</th>\n",
       "    </tr>\n",
       "  </thead>\n",
       "  <tbody>\n",
       "    <tr>\n",
       "      <th>0</th>\n",
       "      <td>357.0</td>\n",
       "      <td>368.0</td>\n",
       "    </tr>\n",
       "    <tr>\n",
       "      <th>1</th>\n",
       "      <td>290.0</td>\n",
       "      <td>290.0</td>\n",
       "    </tr>\n",
       "    <tr>\n",
       "      <th>2</th>\n",
       "      <td>382.0</td>\n",
       "      <td>382.0</td>\n",
       "    </tr>\n",
       "    <tr>\n",
       "      <th>3</th>\n",
       "      <td>211.0</td>\n",
       "      <td>211.0</td>\n",
       "    </tr>\n",
       "    <tr>\n",
       "      <th>4</th>\n",
       "      <td>193.0</td>\n",
       "      <td>193.0</td>\n",
       "    </tr>\n",
       "  </tbody>\n",
       "</table>\n",
       "</div>"
      ],
      "text/plain": [
       "       0      1\n",
       "0  357.0  368.0\n",
       "1  290.0  290.0\n",
       "2  382.0  382.0\n",
       "3  211.0  211.0\n",
       "4  193.0  193.0"
      ]
     },
     "execution_count": 78,
     "metadata": {},
     "output_type": "execute_result"
    }
   ],
   "source": [
    "frames = [dtr_pred, y_test.values]\n",
    "result_pred = pd.DataFrame(data=frames)\n",
    "result_pred = result_pred.T\n",
    "result_pred.head()"
   ]
  },
  {
   "cell_type": "code",
   "execution_count": 79,
   "id": "b7ec95dd",
   "metadata": {},
   "outputs": [
    {
     "name": "stdout",
     "output_type": "stream",
     "text": [
      "mean diff:  1.7914691943127963\n"
     ]
    }
   ],
   "source": [
    "dtr_pred = result_pred.rename(columns={0: 'pred_values', 1:'real_values'})\n",
    "dtr_pred['pred_values'] = (dtr_pred['pred_values'].map(lambda x: round(x,2)))\n",
    "\n",
    "dtr_pred['diff'] = abs(dtr_pred['real_values'] -dtr_pred['pred_values'])\n",
    "\n",
    "\n",
    "print('mean diff: ', abs(dtr_pred['diff']).mean())"
   ]
  },
  {
   "cell_type": "code",
   "execution_count": 80,
   "id": "ad86bbe0",
   "metadata": {},
   "outputs": [
    {
     "data": {
      "text/html": [
       "<div>\n",
       "<style scoped>\n",
       "    .dataframe tbody tr th:only-of-type {\n",
       "        vertical-align: middle;\n",
       "    }\n",
       "\n",
       "    .dataframe tbody tr th {\n",
       "        vertical-align: top;\n",
       "    }\n",
       "\n",
       "    .dataframe thead th {\n",
       "        text-align: right;\n",
       "    }\n",
       "</style>\n",
       "<table border=\"1\" class=\"dataframe\">\n",
       "  <thead>\n",
       "    <tr style=\"text-align: right;\">\n",
       "      <th></th>\n",
       "      <th>pred_values</th>\n",
       "      <th>real_values</th>\n",
       "      <th>diff</th>\n",
       "    </tr>\n",
       "  </thead>\n",
       "  <tbody>\n",
       "    <tr>\n",
       "      <th>0</th>\n",
       "      <td>357.0</td>\n",
       "      <td>368.0</td>\n",
       "      <td>11.0</td>\n",
       "    </tr>\n",
       "    <tr>\n",
       "      <th>1</th>\n",
       "      <td>290.0</td>\n",
       "      <td>290.0</td>\n",
       "      <td>0.0</td>\n",
       "    </tr>\n",
       "    <tr>\n",
       "      <th>2</th>\n",
       "      <td>382.0</td>\n",
       "      <td>382.0</td>\n",
       "      <td>0.0</td>\n",
       "    </tr>\n",
       "    <tr>\n",
       "      <th>3</th>\n",
       "      <td>211.0</td>\n",
       "      <td>211.0</td>\n",
       "      <td>0.0</td>\n",
       "    </tr>\n",
       "    <tr>\n",
       "      <th>4</th>\n",
       "      <td>193.0</td>\n",
       "      <td>193.0</td>\n",
       "      <td>0.0</td>\n",
       "    </tr>\n",
       "    <tr>\n",
       "      <th>5</th>\n",
       "      <td>244.0</td>\n",
       "      <td>244.0</td>\n",
       "      <td>0.0</td>\n",
       "    </tr>\n",
       "    <tr>\n",
       "      <th>6</th>\n",
       "      <td>210.0</td>\n",
       "      <td>210.0</td>\n",
       "      <td>0.0</td>\n",
       "    </tr>\n",
       "    <tr>\n",
       "      <th>7</th>\n",
       "      <td>174.0</td>\n",
       "      <td>174.0</td>\n",
       "      <td>0.0</td>\n",
       "    </tr>\n",
       "    <tr>\n",
       "      <th>8</th>\n",
       "      <td>267.0</td>\n",
       "      <td>268.0</td>\n",
       "      <td>1.0</td>\n",
       "    </tr>\n",
       "    <tr>\n",
       "      <th>9</th>\n",
       "      <td>304.6</td>\n",
       "      <td>305.0</td>\n",
       "      <td>0.4</td>\n",
       "    </tr>\n",
       "  </tbody>\n",
       "</table>\n",
       "</div>"
      ],
      "text/plain": [
       "   pred_values  real_values  diff\n",
       "0        357.0        368.0  11.0\n",
       "1        290.0        290.0   0.0\n",
       "2        382.0        382.0   0.0\n",
       "3        211.0        211.0   0.0\n",
       "4        193.0        193.0   0.0\n",
       "5        244.0        244.0   0.0\n",
       "6        210.0        210.0   0.0\n",
       "7        174.0        174.0   0.0\n",
       "8        267.0        268.0   1.0\n",
       "9        304.6        305.0   0.4"
      ]
     },
     "execution_count": 80,
     "metadata": {},
     "output_type": "execute_result"
    }
   ],
   "source": [
    "dtr_pred.head(10)"
   ]
  },
  {
   "cell_type": "markdown",
   "id": "901f4895",
   "metadata": {},
   "source": [
    "# Random Forest Reeegression:"
   ]
  },
  {
   "cell_type": "code",
   "execution_count": 81,
   "id": "f6d32010",
   "metadata": {},
   "outputs": [
    {
     "data": {
      "text/plain": [
       "RandomForestRegressor()"
      ]
     },
     "execution_count": 81,
     "metadata": {},
     "output_type": "execute_result"
    }
   ],
   "source": [
    "rf_model = RandomForestRegressor()\n",
    "rf_model.fit(X_train, y_train)"
   ]
  },
  {
   "cell_type": "code",
   "execution_count": 82,
   "id": "27f2c1d0",
   "metadata": {},
   "outputs": [
    {
     "data": {
      "text/plain": [
       "array([358.976     , 290.64766667, 383.46      , ..., 343.39452381,\n",
       "       189.9905    , 177.52      ])"
      ]
     },
     "execution_count": 82,
     "metadata": {},
     "output_type": "execute_result"
    }
   ],
   "source": [
    "y_rf_pred = rf_model.predict(X_test)\n",
    "y_rf_pred"
   ]
  },
  {
   "cell_type": "code",
   "execution_count": 83,
   "id": "e0a5f6bf",
   "metadata": {},
   "outputs": [
    {
     "name": "stdout",
     "output_type": "stream",
     "text": [
      "RMSE: 3.2041\n",
      "MAE: 1.9641\n",
      "R2_score: 0.9970\n"
     ]
    }
   ],
   "source": [
    "print('RMSE: {:0.4f}'.format(np.sqrt(mean_squared_error(y_test,y_rf_pred))))\n",
    "print('MAE: {:0.4f}'.format(mean_absolute_error(y_test,y_rf_pred)))\n",
    "print('R2_score: {:0.4f}'.format(r2_score(y_test,y_rf_pred)))"
   ]
  },
  {
   "cell_type": "code",
   "execution_count": 84,
   "id": "5c2ebc47",
   "metadata": {},
   "outputs": [
    {
     "data": {
      "text/html": [
       "<div>\n",
       "<style scoped>\n",
       "    .dataframe tbody tr th:only-of-type {\n",
       "        vertical-align: middle;\n",
       "    }\n",
       "\n",
       "    .dataframe tbody tr th {\n",
       "        vertical-align: top;\n",
       "    }\n",
       "\n",
       "    .dataframe thead th {\n",
       "        text-align: right;\n",
       "    }\n",
       "</style>\n",
       "<table border=\"1\" class=\"dataframe\">\n",
       "  <thead>\n",
       "    <tr style=\"text-align: right;\">\n",
       "      <th></th>\n",
       "      <th>0</th>\n",
       "      <th>1</th>\n",
       "    </tr>\n",
       "  </thead>\n",
       "  <tbody>\n",
       "    <tr>\n",
       "      <th>0</th>\n",
       "      <td>358.976000</td>\n",
       "      <td>368.0</td>\n",
       "    </tr>\n",
       "    <tr>\n",
       "      <th>1</th>\n",
       "      <td>290.647667</td>\n",
       "      <td>290.0</td>\n",
       "    </tr>\n",
       "    <tr>\n",
       "      <th>2</th>\n",
       "      <td>383.460000</td>\n",
       "      <td>382.0</td>\n",
       "    </tr>\n",
       "    <tr>\n",
       "      <th>3</th>\n",
       "      <td>211.120000</td>\n",
       "      <td>211.0</td>\n",
       "    </tr>\n",
       "    <tr>\n",
       "      <th>4</th>\n",
       "      <td>192.640000</td>\n",
       "      <td>193.0</td>\n",
       "    </tr>\n",
       "  </tbody>\n",
       "</table>\n",
       "</div>"
      ],
      "text/plain": [
       "            0      1\n",
       "0  358.976000  368.0\n",
       "1  290.647667  290.0\n",
       "2  383.460000  382.0\n",
       "3  211.120000  211.0\n",
       "4  192.640000  193.0"
      ]
     },
     "execution_count": 84,
     "metadata": {},
     "output_type": "execute_result"
    }
   ],
   "source": [
    "frames = [y_rf_pred, y_test.values]\n",
    "result_pred = pd.DataFrame(data=frames)\n",
    "result_pred = result_pred.T\n",
    "result_pred.head()"
   ]
  },
  {
   "cell_type": "code",
   "execution_count": 85,
   "id": "1008ec2e",
   "metadata": {},
   "outputs": [
    {
     "name": "stdout",
     "output_type": "stream",
     "text": [
      "mean diff:  1.9641232227488168\n"
     ]
    }
   ],
   "source": [
    "y_rf_pred = result_pred.rename(columns={0: 'pred_values', 1:'real_values'})\n",
    "y_rf_pred['pred_values'] = (y_rf_pred['pred_values'].map(lambda x: round(x,2)))\n",
    "\n",
    "y_rf_pred['diff'] = abs(y_rf_pred['real_values'] -y_rf_pred['pred_values'])\n",
    "\n",
    "\n",
    "print('mean diff: ', abs(y_rf_pred['diff']).mean())"
   ]
  },
  {
   "cell_type": "code",
   "execution_count": 86,
   "id": "a15f62be",
   "metadata": {},
   "outputs": [],
   "source": [
    "models =['LinReg','DT', 'RF']\n",
    "\n",
    "frame = pd.DataFrame(columns={'models':[],'rmse_train':[], 'mae_train':[],'r2_train':[] ,'rmse_test':[], 'mae_test':[],'r2_test':[]})\n",
    "\n",
    "\n",
    "\n",
    "\n",
    "for i in range(len(models)):\n",
    "    if models[i] == 'LinReg':\n",
    "        model = LinearRegression()\n",
    "        model.fit(X_train,y_train)\n",
    "        pred_train = model.predict(X_train)\n",
    "        rmse_train = np.sqrt(mean_squared_error(y_train,pred_train))\n",
    "        mae_train = mean_absolute_error(y_train,pred_train)\n",
    "        r2_train = r2_score(y_train,pred_train)\n",
    "        \n",
    "        pred_test = model.predict(X_test)\n",
    "        rmse_test = np.sqrt(mean_squared_error(y_test,pred_test))\n",
    "        mae_test = mean_absolute_error(y_test,pred_test)\n",
    "        r2_test = r2_score(y_test,pred_test)\n",
    "        frame.loc[frame.shape[0]] = ['Linear Regression', rmse_train, mae_train,r2_train,rmse_test,mae_test,r2_test]\n",
    "        \n",
    "        \n",
    "    elif models[i] =='DT':\n",
    "        model = DecisionTreeRegressor()\n",
    "        model.fit(X_train,y_train)\n",
    "        pred_train = model.predict(X_train)\n",
    "        rmse_train = np.sqrt(mean_squared_error(y_train,pred_train))\n",
    "        mae_train = mean_absolute_error(y_train,pred_train)\n",
    "        r2_train = r2_score(y_train,pred_train)\n",
    "        \n",
    "        pred_test = model.predict(X_test)\n",
    "        rmse_test = np.sqrt(mean_squared_error(y_test,pred_test))\n",
    "        mae_test = mean_absolute_error(y_test,pred_test)\n",
    "        r2_test = r2_score(y_test,pred_test)\n",
    "        frame.loc[frame.shape[0]] = ['Decision Tree Regression',rmse_train, mae_train,r2_train,rmse_test,mae_test,r2_test]\n",
    "        \n",
    "    elif models[i] =='RF':\n",
    "        model = RandomForestRegressor()\n",
    "        model.fit(X_train,y_train)\n",
    "        pred_train = model.predict(X_train)\n",
    "        rmse_train = np.sqrt(mean_squared_error(y_train,pred_train))\n",
    "        mae_train = mean_absolute_error(y_train,pred_train)\n",
    "        r2_train = r2_score(y_train,pred_train)\n",
    "       \n",
    "        pred_test = model.predict(X_test)\n",
    "        rmse_test = np.sqrt(mean_squared_error(y_test,pred_test))\n",
    "        mae_test = mean_absolute_error(y_test,pred_test)\n",
    "        r2_test = r2_score(y_test,pred_test)\n",
    "        frame.loc[frame.shape[0]] = ['Random Forest Regression',rmse_train, mae_train,r2_train,rmse_test,mae_test,r2_test]\n",
    "        \n",
    "    "
   ]
  },
  {
   "cell_type": "code",
   "execution_count": 87,
   "id": "8b85f1a4",
   "metadata": {},
   "outputs": [
    {
     "data": {
      "text/html": [
       "<div>\n",
       "<style scoped>\n",
       "    .dataframe tbody tr th:only-of-type {\n",
       "        vertical-align: middle;\n",
       "    }\n",
       "\n",
       "    .dataframe tbody tr th {\n",
       "        vertical-align: top;\n",
       "    }\n",
       "\n",
       "    .dataframe thead th {\n",
       "        text-align: right;\n",
       "    }\n",
       "</style>\n",
       "<table border=\"1\" class=\"dataframe\">\n",
       "  <thead>\n",
       "    <tr style=\"text-align: right;\">\n",
       "      <th></th>\n",
       "      <th>models</th>\n",
       "      <th>rmse_train</th>\n",
       "      <th>mae_train</th>\n",
       "      <th>r2_train</th>\n",
       "      <th>rmse_test</th>\n",
       "      <th>mae_test</th>\n",
       "      <th>r2_test</th>\n",
       "    </tr>\n",
       "  </thead>\n",
       "  <tbody>\n",
       "    <tr>\n",
       "      <th>0</th>\n",
       "      <td>Linear Regression</td>\n",
       "      <td>4.962163</td>\n",
       "      <td>2.996013</td>\n",
       "      <td>0.992778</td>\n",
       "      <td>4.918261</td>\n",
       "      <td>2.979052</td>\n",
       "      <td>0.993042</td>\n",
       "    </tr>\n",
       "    <tr>\n",
       "      <th>1</th>\n",
       "      <td>Decision Tree Regression</td>\n",
       "      <td>0.939813</td>\n",
       "      <td>0.318859</td>\n",
       "      <td>0.999741</td>\n",
       "      <td>3.664870</td>\n",
       "      <td>1.828696</td>\n",
       "      <td>0.996136</td>\n",
       "    </tr>\n",
       "    <tr>\n",
       "      <th>2</th>\n",
       "      <td>Random Forest Regression</td>\n",
       "      <td>1.459469</td>\n",
       "      <td>0.863262</td>\n",
       "      <td>0.999375</td>\n",
       "      <td>3.167093</td>\n",
       "      <td>1.946509</td>\n",
       "      <td>0.997115</td>\n",
       "    </tr>\n",
       "  </tbody>\n",
       "</table>\n",
       "</div>"
      ],
      "text/plain": [
       "                     models  rmse_train  mae_train  r2_train  rmse_test  \\\n",
       "0         Linear Regression    4.962163   2.996013  0.992778   4.918261   \n",
       "1  Decision Tree Regression    0.939813   0.318859  0.999741   3.664870   \n",
       "2  Random Forest Regression    1.459469   0.863262  0.999375   3.167093   \n",
       "\n",
       "   mae_test   r2_test  \n",
       "0  2.979052  0.993042  \n",
       "1  1.828696  0.996136  \n",
       "2  1.946509  0.997115  "
      ]
     },
     "execution_count": 87,
     "metadata": {},
     "output_type": "execute_result"
    }
   ],
   "source": [
    "frame"
   ]
  },
  {
   "cell_type": "code",
   "execution_count": null,
   "id": "38e0c605",
   "metadata": {},
   "outputs": [],
   "source": []
  }
 ],
 "metadata": {
  "kernelspec": {
   "display_name": "Python 3",
   "language": "python",
   "name": "python3"
  },
  "language_info": {
   "codemirror_mode": {
    "name": "ipython",
    "version": 3
   },
   "file_extension": ".py",
   "mimetype": "text/x-python",
   "name": "python",
   "nbconvert_exporter": "python",
   "pygments_lexer": "ipython3",
   "version": "3.8.8"
  }
 },
 "nbformat": 4,
 "nbformat_minor": 5
}
